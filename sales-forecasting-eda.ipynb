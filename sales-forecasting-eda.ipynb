{
 "cells": [
  {
   "cell_type": "code",
   "execution_count": 1,
   "metadata": {
    "execution": {
     "iopub.execute_input": "2023-10-05T03:48:17.372392Z",
     "iopub.status.busy": "2023-10-05T03:48:17.372008Z",
     "iopub.status.idle": "2023-10-05T03:48:18.160575Z",
     "shell.execute_reply": "2023-10-05T03:48:18.159397Z",
     "shell.execute_reply.started": "2023-10-05T03:48:17.372360Z"
    }
   },
   "outputs": [],
   "source": [
    "import pandas as pd\n",
    "import numpy as np \n",
    "import seaborn as sns\n",
    "import matplotlib.pyplot as plt"
   ]
  },
  {
   "cell_type": "code",
   "execution_count": 2,
   "metadata": {
    "execution": {
     "iopub.execute_input": "2023-10-05T03:49:30.617251Z",
     "iopub.status.busy": "2023-10-05T03:49:30.616851Z",
     "iopub.status.idle": "2023-10-05T03:49:30.735527Z",
     "shell.execute_reply": "2023-10-05T03:49:30.734321Z",
     "shell.execute_reply.started": "2023-10-05T03:49:30.617220Z"
    }
   },
   "outputs": [],
   "source": [
    "df=pd.read_csv(r\"C:\\Users\\Admin\\Desktop\\ml_data\\sales_forecasting.csv\")"
   ]
  },
  {
   "cell_type": "code",
   "execution_count": 3,
   "metadata": {
    "execution": {
     "iopub.execute_input": "2023-10-05T03:49:35.443805Z",
     "iopub.status.busy": "2023-10-05T03:49:35.443347Z",
     "iopub.status.idle": "2023-10-05T03:49:35.473577Z",
     "shell.execute_reply": "2023-10-05T03:49:35.472675Z",
     "shell.execute_reply.started": "2023-10-05T03:49:35.443765Z"
    }
   },
   "outputs": [
    {
     "data": {
      "text/html": [
       "<div>\n",
       "<style scoped>\n",
       "    .dataframe tbody tr th:only-of-type {\n",
       "        vertical-align: middle;\n",
       "    }\n",
       "\n",
       "    .dataframe tbody tr th {\n",
       "        vertical-align: top;\n",
       "    }\n",
       "\n",
       "    .dataframe thead th {\n",
       "        text-align: right;\n",
       "    }\n",
       "</style>\n",
       "<table border=\"1\" class=\"dataframe\">\n",
       "  <thead>\n",
       "    <tr style=\"text-align: right;\">\n",
       "      <th></th>\n",
       "      <th>Row ID</th>\n",
       "      <th>Order ID</th>\n",
       "      <th>Order Date</th>\n",
       "      <th>Ship Date</th>\n",
       "      <th>Ship Mode</th>\n",
       "      <th>Customer ID</th>\n",
       "      <th>Customer Name</th>\n",
       "      <th>Segment</th>\n",
       "      <th>Country</th>\n",
       "      <th>City</th>\n",
       "      <th>State</th>\n",
       "      <th>Postal Code</th>\n",
       "      <th>Region</th>\n",
       "      <th>Product ID</th>\n",
       "      <th>Category</th>\n",
       "      <th>Sub-Category</th>\n",
       "      <th>Product Name</th>\n",
       "      <th>Sales</th>\n",
       "    </tr>\n",
       "  </thead>\n",
       "  <tbody>\n",
       "    <tr>\n",
       "      <th>0</th>\n",
       "      <td>1</td>\n",
       "      <td>CA-2017-152156</td>\n",
       "      <td>08/11/2017</td>\n",
       "      <td>11/11/2017</td>\n",
       "      <td>Second Class</td>\n",
       "      <td>CG-12520</td>\n",
       "      <td>Claire Gute</td>\n",
       "      <td>Consumer</td>\n",
       "      <td>United States</td>\n",
       "      <td>Henderson</td>\n",
       "      <td>Kentucky</td>\n",
       "      <td>42420.0</td>\n",
       "      <td>South</td>\n",
       "      <td>FUR-BO-10001798</td>\n",
       "      <td>Furniture</td>\n",
       "      <td>Bookcases</td>\n",
       "      <td>Bush Somerset Collection Bookcase</td>\n",
       "      <td>261.9600</td>\n",
       "    </tr>\n",
       "    <tr>\n",
       "      <th>1</th>\n",
       "      <td>2</td>\n",
       "      <td>CA-2017-152156</td>\n",
       "      <td>08/11/2017</td>\n",
       "      <td>11/11/2017</td>\n",
       "      <td>Second Class</td>\n",
       "      <td>CG-12520</td>\n",
       "      <td>Claire Gute</td>\n",
       "      <td>Consumer</td>\n",
       "      <td>United States</td>\n",
       "      <td>Henderson</td>\n",
       "      <td>Kentucky</td>\n",
       "      <td>42420.0</td>\n",
       "      <td>South</td>\n",
       "      <td>FUR-CH-10000454</td>\n",
       "      <td>Furniture</td>\n",
       "      <td>Chairs</td>\n",
       "      <td>Hon Deluxe Fabric Upholstered Stacking Chairs,...</td>\n",
       "      <td>731.9400</td>\n",
       "    </tr>\n",
       "    <tr>\n",
       "      <th>2</th>\n",
       "      <td>3</td>\n",
       "      <td>CA-2017-138688</td>\n",
       "      <td>12/06/2017</td>\n",
       "      <td>16/06/2017</td>\n",
       "      <td>Second Class</td>\n",
       "      <td>DV-13045</td>\n",
       "      <td>Darrin Van Huff</td>\n",
       "      <td>Corporate</td>\n",
       "      <td>United States</td>\n",
       "      <td>Los Angeles</td>\n",
       "      <td>California</td>\n",
       "      <td>90036.0</td>\n",
       "      <td>West</td>\n",
       "      <td>OFF-LA-10000240</td>\n",
       "      <td>Office Supplies</td>\n",
       "      <td>Labels</td>\n",
       "      <td>Self-Adhesive Address Labels for Typewriters b...</td>\n",
       "      <td>14.6200</td>\n",
       "    </tr>\n",
       "    <tr>\n",
       "      <th>3</th>\n",
       "      <td>4</td>\n",
       "      <td>US-2016-108966</td>\n",
       "      <td>11/10/2016</td>\n",
       "      <td>18/10/2016</td>\n",
       "      <td>Standard Class</td>\n",
       "      <td>SO-20335</td>\n",
       "      <td>Sean O'Donnell</td>\n",
       "      <td>Consumer</td>\n",
       "      <td>United States</td>\n",
       "      <td>Fort Lauderdale</td>\n",
       "      <td>Florida</td>\n",
       "      <td>33311.0</td>\n",
       "      <td>South</td>\n",
       "      <td>FUR-TA-10000577</td>\n",
       "      <td>Furniture</td>\n",
       "      <td>Tables</td>\n",
       "      <td>Bretford CR4500 Series Slim Rectangular Table</td>\n",
       "      <td>957.5775</td>\n",
       "    </tr>\n",
       "    <tr>\n",
       "      <th>4</th>\n",
       "      <td>5</td>\n",
       "      <td>US-2016-108966</td>\n",
       "      <td>11/10/2016</td>\n",
       "      <td>18/10/2016</td>\n",
       "      <td>Standard Class</td>\n",
       "      <td>SO-20335</td>\n",
       "      <td>Sean O'Donnell</td>\n",
       "      <td>Consumer</td>\n",
       "      <td>United States</td>\n",
       "      <td>Fort Lauderdale</td>\n",
       "      <td>Florida</td>\n",
       "      <td>33311.0</td>\n",
       "      <td>South</td>\n",
       "      <td>OFF-ST-10000760</td>\n",
       "      <td>Office Supplies</td>\n",
       "      <td>Storage</td>\n",
       "      <td>Eldon Fold 'N Roll Cart System</td>\n",
       "      <td>22.3680</td>\n",
       "    </tr>\n",
       "  </tbody>\n",
       "</table>\n",
       "</div>"
      ],
      "text/plain": [
       "   Row ID        Order ID  Order Date   Ship Date       Ship Mode Customer ID  \\\n",
       "0       1  CA-2017-152156  08/11/2017  11/11/2017    Second Class    CG-12520   \n",
       "1       2  CA-2017-152156  08/11/2017  11/11/2017    Second Class    CG-12520   \n",
       "2       3  CA-2017-138688  12/06/2017  16/06/2017    Second Class    DV-13045   \n",
       "3       4  US-2016-108966  11/10/2016  18/10/2016  Standard Class    SO-20335   \n",
       "4       5  US-2016-108966  11/10/2016  18/10/2016  Standard Class    SO-20335   \n",
       "\n",
       "     Customer Name    Segment        Country             City       State  \\\n",
       "0      Claire Gute   Consumer  United States        Henderson    Kentucky   \n",
       "1      Claire Gute   Consumer  United States        Henderson    Kentucky   \n",
       "2  Darrin Van Huff  Corporate  United States      Los Angeles  California   \n",
       "3   Sean O'Donnell   Consumer  United States  Fort Lauderdale     Florida   \n",
       "4   Sean O'Donnell   Consumer  United States  Fort Lauderdale     Florida   \n",
       "\n",
       "   Postal Code Region       Product ID         Category Sub-Category  \\\n",
       "0      42420.0  South  FUR-BO-10001798        Furniture    Bookcases   \n",
       "1      42420.0  South  FUR-CH-10000454        Furniture       Chairs   \n",
       "2      90036.0   West  OFF-LA-10000240  Office Supplies       Labels   \n",
       "3      33311.0  South  FUR-TA-10000577        Furniture       Tables   \n",
       "4      33311.0  South  OFF-ST-10000760  Office Supplies      Storage   \n",
       "\n",
       "                                        Product Name     Sales  \n",
       "0                  Bush Somerset Collection Bookcase  261.9600  \n",
       "1  Hon Deluxe Fabric Upholstered Stacking Chairs,...  731.9400  \n",
       "2  Self-Adhesive Address Labels for Typewriters b...   14.6200  \n",
       "3      Bretford CR4500 Series Slim Rectangular Table  957.5775  \n",
       "4                     Eldon Fold 'N Roll Cart System   22.3680  "
      ]
     },
     "execution_count": 3,
     "metadata": {},
     "output_type": "execute_result"
    }
   ],
   "source": [
    "df.head()"
   ]
  },
  {
   "cell_type": "code",
   "execution_count": 4,
   "metadata": {
    "execution": {
     "iopub.execute_input": "2023-10-05T03:52:25.817286Z",
     "iopub.status.busy": "2023-10-05T03:52:25.816527Z",
     "iopub.status.idle": "2023-10-05T03:52:25.827213Z",
     "shell.execute_reply": "2023-10-05T03:52:25.825658Z",
     "shell.execute_reply.started": "2023-10-05T03:52:25.817249Z"
    }
   },
   "outputs": [],
   "source": [
    "df=df.drop('Row ID',axis=1)"
   ]
  },
  {
   "cell_type": "code",
   "execution_count": 5,
   "metadata": {
    "execution": {
     "iopub.execute_input": "2023-10-05T03:52:59.132358Z",
     "iopub.status.busy": "2023-10-05T03:52:59.131952Z",
     "iopub.status.idle": "2023-10-05T03:52:59.140282Z",
     "shell.execute_reply": "2023-10-05T03:52:59.138981Z",
     "shell.execute_reply.started": "2023-10-05T03:52:59.132319Z"
    }
   },
   "outputs": [
    {
     "data": {
      "text/plain": [
       "(9800, 17)"
      ]
     },
     "execution_count": 5,
     "metadata": {},
     "output_type": "execute_result"
    }
   ],
   "source": [
    "df.shape"
   ]
  },
  {
   "cell_type": "code",
   "execution_count": 6,
   "metadata": {
    "execution": {
     "iopub.execute_input": "2023-10-05T03:53:21.166618Z",
     "iopub.status.busy": "2023-10-05T03:53:21.166166Z",
     "iopub.status.idle": "2023-10-05T03:53:21.184206Z",
     "shell.execute_reply": "2023-10-05T03:53:21.183238Z",
     "shell.execute_reply.started": "2023-10-05T03:53:21.166580Z"
    }
   },
   "outputs": [
    {
     "data": {
      "text/plain": [
       "Order ID          0\n",
       "Order Date        0\n",
       "Ship Date         0\n",
       "Ship Mode         0\n",
       "Customer ID       0\n",
       "Customer Name     0\n",
       "Segment           0\n",
       "Country           0\n",
       "City              0\n",
       "State             0\n",
       "Postal Code      11\n",
       "Region            0\n",
       "Product ID        0\n",
       "Category          0\n",
       "Sub-Category      0\n",
       "Product Name      0\n",
       "Sales             0\n",
       "dtype: int64"
      ]
     },
     "execution_count": 6,
     "metadata": {},
     "output_type": "execute_result"
    }
   ],
   "source": [
    "df.isnull().sum()"
   ]
  },
  {
   "cell_type": "code",
   "execution_count": 7,
   "metadata": {
    "execution": {
     "iopub.execute_input": "2023-10-05T03:53:37.109752Z",
     "iopub.status.busy": "2023-10-05T03:53:37.109240Z",
     "iopub.status.idle": "2023-10-05T03:53:37.134055Z",
     "shell.execute_reply": "2023-10-05T03:53:37.132755Z",
     "shell.execute_reply.started": "2023-10-05T03:53:37.109687Z"
    }
   },
   "outputs": [],
   "source": [
    "df=df.dropna()"
   ]
  },
  {
   "cell_type": "code",
   "execution_count": 8,
   "metadata": {
    "execution": {
     "iopub.execute_input": "2023-10-05T03:53:59.418812Z",
     "iopub.status.busy": "2023-10-05T03:53:59.417784Z",
     "iopub.status.idle": "2023-10-05T03:53:59.440923Z",
     "shell.execute_reply": "2023-10-05T03:53:59.439304Z",
     "shell.execute_reply.started": "2023-10-05T03:53:59.418765Z"
    }
   },
   "outputs": [
    {
     "data": {
      "text/plain": [
       "Order ID         0\n",
       "Order Date       0\n",
       "Ship Date        0\n",
       "Ship Mode        0\n",
       "Customer ID      0\n",
       "Customer Name    0\n",
       "Segment          0\n",
       "Country          0\n",
       "City             0\n",
       "State            0\n",
       "Postal Code      0\n",
       "Region           0\n",
       "Product ID       0\n",
       "Category         0\n",
       "Sub-Category     0\n",
       "Product Name     0\n",
       "Sales            0\n",
       "dtype: int64"
      ]
     },
     "execution_count": 8,
     "metadata": {},
     "output_type": "execute_result"
    }
   ],
   "source": [
    "df.isnull().sum()"
   ]
  },
  {
   "cell_type": "code",
   "execution_count": 9,
   "metadata": {
    "execution": {
     "iopub.execute_input": "2023-10-05T03:56:19.701304Z",
     "iopub.status.busy": "2023-10-05T03:56:19.700825Z",
     "iopub.status.idle": "2023-10-05T03:56:19.723284Z",
     "shell.execute_reply": "2023-10-05T03:56:19.722110Z",
     "shell.execute_reply.started": "2023-10-05T03:56:19.701267Z"
    }
   },
   "outputs": [
    {
     "name": "stdout",
     "output_type": "stream",
     "text": [
      "<class 'pandas.core.frame.DataFrame'>\n",
      "Int64Index: 9789 entries, 0 to 9799\n",
      "Data columns (total 17 columns):\n",
      " #   Column         Non-Null Count  Dtype  \n",
      "---  ------         --------------  -----  \n",
      " 0   Order ID       9789 non-null   object \n",
      " 1   Order Date     9789 non-null   object \n",
      " 2   Ship Date      9789 non-null   object \n",
      " 3   Ship Mode      9789 non-null   object \n",
      " 4   Customer ID    9789 non-null   object \n",
      " 5   Customer Name  9789 non-null   object \n",
      " 6   Segment        9789 non-null   object \n",
      " 7   Country        9789 non-null   object \n",
      " 8   City           9789 non-null   object \n",
      " 9   State          9789 non-null   object \n",
      " 10  Postal Code    9789 non-null   float64\n",
      " 11  Region         9789 non-null   object \n",
      " 12  Product ID     9789 non-null   object \n",
      " 13  Category       9789 non-null   object \n",
      " 14  Sub-Category   9789 non-null   object \n",
      " 15  Product Name   9789 non-null   object \n",
      " 16  Sales          9789 non-null   float64\n",
      "dtypes: float64(2), object(15)\n",
      "memory usage: 1.3+ MB\n"
     ]
    }
   ],
   "source": [
    "df.info()"
   ]
  },
  {
   "cell_type": "code",
   "execution_count": 10,
   "metadata": {
    "execution": {
     "iopub.execute_input": "2023-10-05T03:57:18.270176Z",
     "iopub.status.busy": "2023-10-05T03:57:18.269762Z",
     "iopub.status.idle": "2023-10-05T03:57:18.278395Z",
     "shell.execute_reply": "2023-10-05T03:57:18.276991Z",
     "shell.execute_reply.started": "2023-10-05T03:57:18.270145Z"
    }
   },
   "outputs": [],
   "source": [
    "df['Postal Code']=df['Postal Code'].astype('int')"
   ]
  },
  {
   "cell_type": "code",
   "execution_count": 11,
   "metadata": {
    "execution": {
     "iopub.execute_input": "2023-10-05T03:58:37.077961Z",
     "iopub.status.busy": "2023-10-05T03:58:37.077526Z",
     "iopub.status.idle": "2023-10-05T03:58:37.087297Z",
     "shell.execute_reply": "2023-10-05T03:58:37.085823Z",
     "shell.execute_reply.started": "2023-10-05T03:58:37.077918Z"
    }
   },
   "outputs": [
    {
     "data": {
      "text/plain": [
       "array(['South', 'West', 'Central', 'East'], dtype=object)"
      ]
     },
     "execution_count": 11,
     "metadata": {},
     "output_type": "execute_result"
    }
   ],
   "source": [
    "df['Region'].unique()"
   ]
  },
  {
   "cell_type": "code",
   "execution_count": 12,
   "metadata": {
    "execution": {
     "iopub.execute_input": "2023-10-05T03:59:57.223814Z",
     "iopub.status.busy": "2023-10-05T03:59:57.223439Z",
     "iopub.status.idle": "2023-10-05T03:59:57.233274Z",
     "shell.execute_reply": "2023-10-05T03:59:57.231976Z",
     "shell.execute_reply.started": "2023-10-05T03:59:57.223787Z"
    }
   },
   "outputs": [
    {
     "data": {
      "text/plain": [
       "array(['Second Class', 'Standard Class', 'First Class', 'Same Day'],\n",
       "      dtype=object)"
      ]
     },
     "execution_count": 12,
     "metadata": {},
     "output_type": "execute_result"
    }
   ],
   "source": [
    "df['Ship Mode'].unique()"
   ]
  },
  {
   "cell_type": "code",
   "execution_count": 13,
   "metadata": {
    "execution": {
     "iopub.execute_input": "2023-10-05T04:19:10.376807Z",
     "iopub.status.busy": "2023-10-05T04:19:10.376261Z",
     "iopub.status.idle": "2023-10-05T04:19:10.385748Z",
     "shell.execute_reply": "2023-10-05T04:19:10.384713Z",
     "shell.execute_reply.started": "2023-10-05T04:19:10.376766Z"
    }
   },
   "outputs": [
    {
     "data": {
      "text/plain": [
       "Standard Class    5849\n",
       "Second Class      1901\n",
       "First Class       1501\n",
       "Same Day           538\n",
       "Name: Ship Mode, dtype: int64"
      ]
     },
     "execution_count": 13,
     "metadata": {},
     "output_type": "execute_result"
    }
   ],
   "source": [
    "df['Ship Mode'].value_counts()"
   ]
  },
  {
   "cell_type": "code",
   "execution_count": 14,
   "metadata": {
    "execution": {
     "iopub.execute_input": "2023-10-05T04:19:59.485874Z",
     "iopub.status.busy": "2023-10-05T04:19:59.485440Z",
     "iopub.status.idle": "2023-10-05T04:19:59.725374Z",
     "shell.execute_reply": "2023-10-05T04:19:59.724030Z",
     "shell.execute_reply.started": "2023-10-05T04:19:59.485840Z"
    }
   },
   "outputs": [
    {
     "data": {
      "text/plain": [
       "<Axes: >"
      ]
     },
     "execution_count": 14,
     "metadata": {},
     "output_type": "execute_result"
    },
    {
     "data": {
      "image/png": "[encoded data removed]",
      "text/plain": [
       "<Figure size 640x480 with 1 Axes>"
      ]
     },
     "metadata": {},
     "output_type": "display_data"
    }
   ],
   "source": [
    "df['Ship Mode'].value_counts().plot(kind='bar')"
   ]
  },
  {
   "cell_type": "code",
   "execution_count": 15,
   "metadata": {
    "execution": {
     "iopub.execute_input": "2023-10-05T04:21:51.381898Z",
     "iopub.status.busy": "2023-10-05T04:21:51.381522Z",
     "iopub.status.idle": "2023-10-05T04:21:51.395754Z",
     "shell.execute_reply": "2023-10-05T04:21:51.394996Z",
     "shell.execute_reply.started": "2023-10-05T04:21:51.381863Z"
    }
   },
   "outputs": [
    {
     "data": {
      "text/html": [
       "<div>\n",
       "<style scoped>\n",
       "    .dataframe tbody tr th:only-of-type {\n",
       "        vertical-align: middle;\n",
       "    }\n",
       "\n",
       "    .dataframe tbody tr th {\n",
       "        vertical-align: top;\n",
       "    }\n",
       "\n",
       "    .dataframe thead th {\n",
       "        text-align: right;\n",
       "    }\n",
       "</style>\n",
       "<table border=\"1\" class=\"dataframe\">\n",
       "  <thead>\n",
       "    <tr style=\"text-align: right;\">\n",
       "      <th></th>\n",
       "      <th>Ship Mode</th>\n",
       "      <th>Sales</th>\n",
       "    </tr>\n",
       "  </thead>\n",
       "  <tbody>\n",
       "    <tr>\n",
       "      <th>3</th>\n",
       "      <td>Standard Class</td>\n",
       "      <td>1.332617e+06</td>\n",
       "    </tr>\n",
       "    <tr>\n",
       "      <th>2</th>\n",
       "      <td>Second Class</td>\n",
       "      <td>4.491990e+05</td>\n",
       "    </tr>\n",
       "    <tr>\n",
       "      <th>0</th>\n",
       "      <td>First Class</td>\n",
       "      <td>3.455723e+05</td>\n",
       "    </tr>\n",
       "    <tr>\n",
       "      <th>1</th>\n",
       "      <td>Same Day</td>\n",
       "      <td>1.252190e+05</td>\n",
       "    </tr>\n",
       "  </tbody>\n",
       "</table>\n",
       "</div>"
      ],
      "text/plain": [
       "        Ship Mode         Sales\n",
       "3  Standard Class  1.332617e+06\n",
       "2    Second Class  4.491990e+05\n",
       "0     First Class  3.455723e+05\n",
       "1        Same Day  1.252190e+05"
      ]
     },
     "execution_count": 15,
     "metadata": {},
     "output_type": "execute_result"
    }
   ],
   "source": [
    "df.groupby(['Ship Mode'],as_index=False)['Sales'].sum().sort_values(by='Sales',ascending=False)"
   ]
  },
  {
   "cell_type": "code",
   "execution_count": 16,
   "metadata": {
    "execution": {
     "iopub.execute_input": "2023-10-05T04:25:40.668399Z",
     "iopub.status.busy": "2023-10-05T04:25:40.668041Z",
     "iopub.status.idle": "2023-10-05T04:25:40.848488Z",
     "shell.execute_reply": "2023-10-05T04:25:40.847433Z",
     "shell.execute_reply.started": "2023-10-05T04:25:40.668374Z"
    }
   },
   "outputs": [
    {
     "data": {
      "text/plain": [
       "<Axes: xlabel='Ship Mode', ylabel='Sales'>"
      ]
     },
     "execution_count": 16,
     "metadata": {},
     "output_type": "execute_result"
    },
    {
     "data": {
      "image/png": "[encoded data removed]",
      "text/plain": [
       "<Figure size 640x480 with 1 Axes>"
      ]
     },
     "metadata": {},
     "output_type": "display_data"
    }
   ],
   "source": [
    "shipmode_sales=df.groupby(['Ship Mode'],as_index=False)['Sales'].sum().sort_values(by='Sales',ascending=False)\n",
    "sns.barplot(x='Ship Mode',y='Sales',data=shipmode_sales)"
   ]
  },
  {
   "cell_type": "code",
   "execution_count": 17,
   "metadata": {},
   "outputs": [],
   "source": [
    "# most of the shipping are done in standard class.... this might be because in standard the shipping price may be affordable also after standard class there is second class got second rank..and as we know the second class has affordable prices"
   ]
  },
  {
   "cell_type": "code",
   "execution_count": 18,
   "metadata": {
    "execution": {
     "iopub.execute_input": "2023-10-05T04:30:39.147429Z",
     "iopub.status.busy": "2023-10-05T04:30:39.147041Z",
     "iopub.status.idle": "2023-10-05T04:30:39.154067Z",
     "shell.execute_reply": "2023-10-05T04:30:39.153303Z",
     "shell.execute_reply.started": "2023-10-05T04:30:39.147400Z"
    }
   },
   "outputs": [
    {
     "data": {
      "text/plain": [
       "793"
      ]
     },
     "execution_count": 18,
     "metadata": {},
     "output_type": "execute_result"
    }
   ],
   "source": [
    "df['Customer Name'].nunique()"
   ]
  },
  {
   "cell_type": "code",
   "execution_count": 19,
   "metadata": {
    "execution": {
     "iopub.execute_input": "2023-10-05T04:30:59.872961Z",
     "iopub.status.busy": "2023-10-05T04:30:59.872341Z",
     "iopub.status.idle": "2023-10-05T04:30:59.880444Z",
     "shell.execute_reply": "2023-10-05T04:30:59.879235Z",
     "shell.execute_reply.started": "2023-10-05T04:30:59.872921Z"
    }
   },
   "outputs": [
    {
     "data": {
      "text/plain": [
       "array(['Consumer', 'Corporate', 'Home Office'], dtype=object)"
      ]
     },
     "execution_count": 19,
     "metadata": {},
     "output_type": "execute_result"
    }
   ],
   "source": [
    "df['Segment'].unique()"
   ]
  },
  {
   "cell_type": "code",
   "execution_count": 20,
   "metadata": {
    "execution": {
     "iopub.execute_input": "2023-10-05T04:31:25.976602Z",
     "iopub.status.busy": "2023-10-05T04:31:25.976166Z",
     "iopub.status.idle": "2023-10-05T04:31:25.987757Z",
     "shell.execute_reply": "2023-10-05T04:31:25.986486Z",
     "shell.execute_reply.started": "2023-10-05T04:31:25.976570Z"
    }
   },
   "outputs": [
    {
     "data": {
      "text/plain": [
       "Consumer       5096\n",
       "Corporate      2948\n",
       "Home Office    1745\n",
       "Name: Segment, dtype: int64"
      ]
     },
     "execution_count": 20,
     "metadata": {},
     "output_type": "execute_result"
    }
   ],
   "source": [
    "df['Segment'].value_counts()"
   ]
  },
  {
   "cell_type": "code",
   "execution_count": 21,
   "metadata": {
    "execution": {
     "iopub.execute_input": "2023-10-05T04:32:18.372536Z",
     "iopub.status.busy": "2023-10-05T04:32:18.372137Z",
     "iopub.status.idle": "2023-10-05T04:32:18.386054Z",
     "shell.execute_reply": "2023-10-05T04:32:18.384809Z",
     "shell.execute_reply.started": "2023-10-05T04:32:18.372506Z"
    }
   },
   "outputs": [
    {
     "data": {
      "text/html": [
       "<div>\n",
       "<style scoped>\n",
       "    .dataframe tbody tr th:only-of-type {\n",
       "        vertical-align: middle;\n",
       "    }\n",
       "\n",
       "    .dataframe tbody tr th {\n",
       "        vertical-align: top;\n",
       "    }\n",
       "\n",
       "    .dataframe thead th {\n",
       "        text-align: right;\n",
       "    }\n",
       "</style>\n",
       "<table border=\"1\" class=\"dataframe\">\n",
       "  <thead>\n",
       "    <tr style=\"text-align: right;\">\n",
       "      <th></th>\n",
       "      <th>Segment</th>\n",
       "      <th>Sales</th>\n",
       "    </tr>\n",
       "  </thead>\n",
       "  <tbody>\n",
       "    <tr>\n",
       "      <th>0</th>\n",
       "      <td>Consumer</td>\n",
       "      <td>1.146708e+06</td>\n",
       "    </tr>\n",
       "    <tr>\n",
       "      <th>1</th>\n",
       "      <td>Corporate</td>\n",
       "      <td>6.822118e+05</td>\n",
       "    </tr>\n",
       "    <tr>\n",
       "      <th>2</th>\n",
       "      <td>Home Office</td>\n",
       "      <td>4.236874e+05</td>\n",
       "    </tr>\n",
       "  </tbody>\n",
       "</table>\n",
       "</div>"
      ],
      "text/plain": [
       "       Segment         Sales\n",
       "0     Consumer  1.146708e+06\n",
       "1    Corporate  6.822118e+05\n",
       "2  Home Office  4.236874e+05"
      ]
     },
     "execution_count": 21,
     "metadata": {},
     "output_type": "execute_result"
    }
   ],
   "source": [
    "df.groupby(['Segment'],as_index=False)['Sales'].sum().sort_values(by='Sales',ascending=False)"
   ]
  },
  {
   "cell_type": "code",
   "execution_count": 22,
   "metadata": {
    "execution": {
     "iopub.execute_input": "2023-10-05T04:35:48.235599Z",
     "iopub.status.busy": "2023-10-05T04:35:48.235198Z",
     "iopub.status.idle": "2023-10-05T04:35:48.409646Z",
     "shell.execute_reply": "2023-10-05T04:35:48.408719Z",
     "shell.execute_reply.started": "2023-10-05T04:35:48.235570Z"
    }
   },
   "outputs": [
    {
     "data": {
      "text/plain": [
       "<Axes: xlabel='Segment', ylabel='Sales'>"
      ]
     },
     "execution_count": 22,
     "metadata": {},
     "output_type": "execute_result"
    },
    {
     "data": {
      "image/png": "[encoded data removed]",
      "text/plain": [
       "<Figure size 640x480 with 1 Axes>"
      ]
     },
     "metadata": {},
     "output_type": "display_data"
    }
   ],
   "source": [
    "segment_sales=df.groupby(['Segment'],as_index=False)['Sales'].sum().sort_values(by='Sales',ascending=False)\n",
    "sns.barplot(x='Segment',y='Sales',data=segment_sales)"
   ]
  },
  {
   "cell_type": "code",
   "execution_count": 23,
   "metadata": {
    "execution": {
     "iopub.execute_input": "2023-10-05T04:43:14.130100Z",
     "iopub.status.busy": "2023-10-05T04:43:14.129748Z",
     "iopub.status.idle": "2023-10-05T04:43:14.135327Z",
     "shell.execute_reply": "2023-10-05T04:43:14.134136Z",
     "shell.execute_reply.started": "2023-10-05T04:43:14.130069Z"
    }
   },
   "outputs": [],
   "source": [
    "# Consumer segment are having more sales than corporate and home offices segments"
   ]
  },
  {
   "cell_type": "code",
   "execution_count": 24,
   "metadata": {
    "execution": {
     "iopub.execute_input": "2023-10-05T04:44:34.098247Z",
     "iopub.status.busy": "2023-10-05T04:44:34.097898Z",
     "iopub.status.idle": "2023-10-05T04:44:34.110018Z",
     "shell.execute_reply": "2023-10-05T04:44:34.108610Z",
     "shell.execute_reply.started": "2023-10-05T04:44:34.098218Z"
    }
   },
   "outputs": [
    {
     "data": {
      "text/plain": [
       "New York City    891\n",
       "Los Angeles      728\n",
       "Philadelphia     532\n",
       "San Francisco    500\n",
       "Seattle          426\n",
       "Houston          374\n",
       "Chicago          308\n",
       "Columbus         221\n",
       "San Diego        170\n",
       "Springfield      161\n",
       "Name: City, dtype: int64"
      ]
     },
     "execution_count": 24,
     "metadata": {},
     "output_type": "execute_result"
    }
   ],
   "source": [
    "df['City'].value_counts().head(10)"
   ]
  },
  {
   "cell_type": "code",
   "execution_count": 25,
   "metadata": {
    "execution": {
     "iopub.execute_input": "2023-10-05T04:45:54.274474Z",
     "iopub.status.busy": "2023-10-05T04:45:54.274133Z",
     "iopub.status.idle": "2023-10-05T04:45:54.287134Z",
     "shell.execute_reply": "2023-10-05T04:45:54.286425Z",
     "shell.execute_reply.started": "2023-10-05T04:45:54.274449Z"
    }
   },
   "outputs": [
    {
     "data": {
      "text/html": [
       "<div>\n",
       "<style scoped>\n",
       "    .dataframe tbody tr th:only-of-type {\n",
       "        vertical-align: middle;\n",
       "    }\n",
       "\n",
       "    .dataframe tbody tr th {\n",
       "        vertical-align: top;\n",
       "    }\n",
       "\n",
       "    .dataframe thead th {\n",
       "        text-align: right;\n",
       "    }\n",
       "</style>\n",
       "<table border=\"1\" class=\"dataframe\">\n",
       "  <thead>\n",
       "    <tr style=\"text-align: right;\">\n",
       "      <th></th>\n",
       "      <th>City</th>\n",
       "      <th>Sales</th>\n",
       "    </tr>\n",
       "  </thead>\n",
       "  <tbody>\n",
       "    <tr>\n",
       "      <th>327</th>\n",
       "      <td>New York City</td>\n",
       "      <td>252462.5470</td>\n",
       "    </tr>\n",
       "    <tr>\n",
       "      <th>265</th>\n",
       "      <td>Los Angeles</td>\n",
       "      <td>173420.1810</td>\n",
       "    </tr>\n",
       "    <tr>\n",
       "      <th>450</th>\n",
       "      <td>Seattle</td>\n",
       "      <td>116106.3220</td>\n",
       "    </tr>\n",
       "    <tr>\n",
       "      <th>436</th>\n",
       "      <td>San Francisco</td>\n",
       "      <td>109041.1200</td>\n",
       "    </tr>\n",
       "    <tr>\n",
       "      <th>372</th>\n",
       "      <td>Philadelphia</td>\n",
       "      <td>108841.7490</td>\n",
       "    </tr>\n",
       "    <tr>\n",
       "      <th>207</th>\n",
       "      <td>Houston</td>\n",
       "      <td>63956.1428</td>\n",
       "    </tr>\n",
       "    <tr>\n",
       "      <th>80</th>\n",
       "      <td>Chicago</td>\n",
       "      <td>47820.1330</td>\n",
       "    </tr>\n",
       "    <tr>\n",
       "      <th>435</th>\n",
       "      <td>San Diego</td>\n",
       "      <td>47521.0290</td>\n",
       "    </tr>\n",
       "    <tr>\n",
       "      <th>216</th>\n",
       "      <td>Jacksonville</td>\n",
       "      <td>44713.1830</td>\n",
       "    </tr>\n",
       "    <tr>\n",
       "      <th>123</th>\n",
       "      <td>Detroit</td>\n",
       "      <td>42446.9440</td>\n",
       "    </tr>\n",
       "  </tbody>\n",
       "</table>\n",
       "</div>"
      ],
      "text/plain": [
       "              City        Sales\n",
       "327  New York City  252462.5470\n",
       "265    Los Angeles  173420.1810\n",
       "450        Seattle  116106.3220\n",
       "436  San Francisco  109041.1200\n",
       "372   Philadelphia  108841.7490\n",
       "207        Houston   63956.1428\n",
       "80         Chicago   47820.1330\n",
       "435      San Diego   47521.0290\n",
       "216   Jacksonville   44713.1830\n",
       "123        Detroit   42446.9440"
      ]
     },
     "execution_count": 25,
     "metadata": {},
     "output_type": "execute_result"
    }
   ],
   "source": [
    "df.groupby('City',as_index=False)['Sales'].sum().sort_values(by='Sales',ascending=False).head(10)"
   ]
  },
  {
   "cell_type": "code",
   "execution_count": 26,
   "metadata": {
    "execution": {
     "iopub.execute_input": "2023-10-05T04:47:30.175117Z",
     "iopub.status.busy": "2023-10-05T04:47:30.174646Z",
     "iopub.status.idle": "2023-10-05T04:47:31.014050Z",
     "shell.execute_reply": "2023-10-05T04:47:31.012870Z",
     "shell.execute_reply.started": "2023-10-05T04:47:30.175082Z"
    }
   },
   "outputs": [
    {
     "data": {
      "text/plain": [
       "<Axes: xlabel='City', ylabel='Sales'>"
      ]
     },
     "execution_count": 26,
     "metadata": {},
     "output_type": "execute_result"
    },
    {
     "data": {
      "image/png": "[encoded data removed]",
      "text/plain": [
       "<Figure size 1500x1000 with 1 Axes>"
      ]
     },
     "metadata": {},
     "output_type": "display_data"
    }
   ],
   "source": [
    "city_sales=df.groupby('City',as_index=False)['Sales'].sum().sort_values(by='Sales',ascending=False).head(10)\n",
    "plt.figure(figsize=(15,10))\n",
    "sns.barplot(x='City',y='Sales',data=city_sales)"
   ]
  },
  {
   "cell_type": "code",
   "execution_count": 27,
   "metadata": {
    "execution": {
     "iopub.execute_input": "2023-10-05T04:48:42.774985Z",
     "iopub.status.busy": "2023-10-05T04:48:42.773654Z",
     "iopub.status.idle": "2023-10-05T04:48:42.792426Z",
     "shell.execute_reply": "2023-10-05T04:48:42.791459Z",
     "shell.execute_reply.started": "2023-10-05T04:48:42.774923Z"
    }
   },
   "outputs": [
    {
     "data": {
      "text/html": [
       "<div>\n",
       "<style scoped>\n",
       "    .dataframe tbody tr th:only-of-type {\n",
       "        vertical-align: middle;\n",
       "    }\n",
       "\n",
       "    .dataframe tbody tr th {\n",
       "        vertical-align: top;\n",
       "    }\n",
       "\n",
       "    .dataframe thead th {\n",
       "        text-align: right;\n",
       "    }\n",
       "</style>\n",
       "<table border=\"1\" class=\"dataframe\">\n",
       "  <thead>\n",
       "    <tr style=\"text-align: right;\">\n",
       "      <th></th>\n",
       "      <th>Order ID</th>\n",
       "      <th>Order Date</th>\n",
       "      <th>Ship Date</th>\n",
       "      <th>Ship Mode</th>\n",
       "      <th>Customer ID</th>\n",
       "      <th>Customer Name</th>\n",
       "      <th>Segment</th>\n",
       "      <th>Country</th>\n",
       "      <th>City</th>\n",
       "      <th>State</th>\n",
       "      <th>Postal Code</th>\n",
       "      <th>Region</th>\n",
       "      <th>Product ID</th>\n",
       "      <th>Category</th>\n",
       "      <th>Sub-Category</th>\n",
       "      <th>Product Name</th>\n",
       "      <th>Sales</th>\n",
       "    </tr>\n",
       "  </thead>\n",
       "  <tbody>\n",
       "    <tr>\n",
       "      <th>2697</th>\n",
       "      <td>CA-2015-145317</td>\n",
       "      <td>18/03/2015</td>\n",
       "      <td>23/03/2015</td>\n",
       "      <td>Standard Class</td>\n",
       "      <td>SM-20320</td>\n",
       "      <td>Sean Miller</td>\n",
       "      <td>Home Office</td>\n",
       "      <td>United States</td>\n",
       "      <td>Jacksonville</td>\n",
       "      <td>Florida</td>\n",
       "      <td>32216</td>\n",
       "      <td>South</td>\n",
       "      <td>TEC-MA-10002412</td>\n",
       "      <td>Technology</td>\n",
       "      <td>Machines</td>\n",
       "      <td>Cisco TelePresence System EX90 Videoconferenci...</td>\n",
       "      <td>22638.48</td>\n",
       "    </tr>\n",
       "  </tbody>\n",
       "</table>\n",
       "</div>"
      ],
      "text/plain": [
       "            Order ID  Order Date   Ship Date       Ship Mode Customer ID  \\\n",
       "2697  CA-2015-145317  18/03/2015  23/03/2015  Standard Class    SM-20320   \n",
       "\n",
       "     Customer Name      Segment        Country          City    State  \\\n",
       "2697   Sean Miller  Home Office  United States  Jacksonville  Florida   \n",
       "\n",
       "      Postal Code Region       Product ID    Category Sub-Category  \\\n",
       "2697        32216  South  TEC-MA-10002412  Technology     Machines   \n",
       "\n",
       "                                           Product Name     Sales  \n",
       "2697  Cisco TelePresence System EX90 Videoconferenci...  22638.48  "
      ]
     },
     "execution_count": 27,
     "metadata": {},
     "output_type": "execute_result"
    }
   ],
   "source": [
    "df[df['Sales']==22638.48]"
   ]
  },
  {
   "cell_type": "code",
   "execution_count": 29,
   "metadata": {},
   "outputs": [],
   "source": [
    "##These are the top 10 cities where the value of sales more"
   ]
  },
  {
   "cell_type": "code",
   "execution_count": 30,
   "metadata": {
    "execution": {
     "iopub.execute_input": "2023-10-05T04:52:43.960548Z",
     "iopub.status.busy": "2023-10-05T04:52:43.960149Z",
     "iopub.status.idle": "2023-10-05T04:52:43.979246Z",
     "shell.execute_reply": "2023-10-05T04:52:43.978184Z",
     "shell.execute_reply.started": "2023-10-05T04:52:43.960519Z"
    }
   },
   "outputs": [
    {
     "data": {
      "text/html": [
       "<div>\n",
       "<style scoped>\n",
       "    .dataframe tbody tr th:only-of-type {\n",
       "        vertical-align: middle;\n",
       "    }\n",
       "\n",
       "    .dataframe tbody tr th {\n",
       "        vertical-align: top;\n",
       "    }\n",
       "\n",
       "    .dataframe thead th {\n",
       "        text-align: right;\n",
       "    }\n",
       "</style>\n",
       "<table border=\"1\" class=\"dataframe\">\n",
       "  <thead>\n",
       "    <tr style=\"text-align: right;\">\n",
       "      <th></th>\n",
       "      <th>Order ID</th>\n",
       "      <th>Order Date</th>\n",
       "      <th>Ship Date</th>\n",
       "      <th>Ship Mode</th>\n",
       "      <th>Customer ID</th>\n",
       "      <th>Customer Name</th>\n",
       "      <th>Segment</th>\n",
       "      <th>Country</th>\n",
       "      <th>City</th>\n",
       "      <th>State</th>\n",
       "      <th>Postal Code</th>\n",
       "      <th>Region</th>\n",
       "      <th>Product ID</th>\n",
       "      <th>Category</th>\n",
       "      <th>Sub-Category</th>\n",
       "      <th>Product Name</th>\n",
       "      <th>Sales</th>\n",
       "    </tr>\n",
       "  </thead>\n",
       "  <tbody>\n",
       "    <tr>\n",
       "      <th>0</th>\n",
       "      <td>CA-2017-152156</td>\n",
       "      <td>08/11/2017</td>\n",
       "      <td>11/11/2017</td>\n",
       "      <td>Second Class</td>\n",
       "      <td>CG-12520</td>\n",
       "      <td>Claire Gute</td>\n",
       "      <td>Consumer</td>\n",
       "      <td>United States</td>\n",
       "      <td>Henderson</td>\n",
       "      <td>Kentucky</td>\n",
       "      <td>42420</td>\n",
       "      <td>South</td>\n",
       "      <td>FUR-BO-10001798</td>\n",
       "      <td>Furniture</td>\n",
       "      <td>Bookcases</td>\n",
       "      <td>Bush Somerset Collection Bookcase</td>\n",
       "      <td>261.9600</td>\n",
       "    </tr>\n",
       "    <tr>\n",
       "      <th>1</th>\n",
       "      <td>CA-2017-152156</td>\n",
       "      <td>08/11/2017</td>\n",
       "      <td>11/11/2017</td>\n",
       "      <td>Second Class</td>\n",
       "      <td>CG-12520</td>\n",
       "      <td>Claire Gute</td>\n",
       "      <td>Consumer</td>\n",
       "      <td>United States</td>\n",
       "      <td>Henderson</td>\n",
       "      <td>Kentucky</td>\n",
       "      <td>42420</td>\n",
       "      <td>South</td>\n",
       "      <td>FUR-CH-10000454</td>\n",
       "      <td>Furniture</td>\n",
       "      <td>Chairs</td>\n",
       "      <td>Hon Deluxe Fabric Upholstered Stacking Chairs,...</td>\n",
       "      <td>731.9400</td>\n",
       "    </tr>\n",
       "    <tr>\n",
       "      <th>2</th>\n",
       "      <td>CA-2017-138688</td>\n",
       "      <td>12/06/2017</td>\n",
       "      <td>16/06/2017</td>\n",
       "      <td>Second Class</td>\n",
       "      <td>DV-13045</td>\n",
       "      <td>Darrin Van Huff</td>\n",
       "      <td>Corporate</td>\n",
       "      <td>United States</td>\n",
       "      <td>Los Angeles</td>\n",
       "      <td>California</td>\n",
       "      <td>90036</td>\n",
       "      <td>West</td>\n",
       "      <td>OFF-LA-10000240</td>\n",
       "      <td>Office Supplies</td>\n",
       "      <td>Labels</td>\n",
       "      <td>Self-Adhesive Address Labels for Typewriters b...</td>\n",
       "      <td>14.6200</td>\n",
       "    </tr>\n",
       "    <tr>\n",
       "      <th>3</th>\n",
       "      <td>US-2016-108966</td>\n",
       "      <td>11/10/2016</td>\n",
       "      <td>18/10/2016</td>\n",
       "      <td>Standard Class</td>\n",
       "      <td>SO-20335</td>\n",
       "      <td>Sean O'Donnell</td>\n",
       "      <td>Consumer</td>\n",
       "      <td>United States</td>\n",
       "      <td>Fort Lauderdale</td>\n",
       "      <td>Florida</td>\n",
       "      <td>33311</td>\n",
       "      <td>South</td>\n",
       "      <td>FUR-TA-10000577</td>\n",
       "      <td>Furniture</td>\n",
       "      <td>Tables</td>\n",
       "      <td>Bretford CR4500 Series Slim Rectangular Table</td>\n",
       "      <td>957.5775</td>\n",
       "    </tr>\n",
       "    <tr>\n",
       "      <th>4</th>\n",
       "      <td>US-2016-108966</td>\n",
       "      <td>11/10/2016</td>\n",
       "      <td>18/10/2016</td>\n",
       "      <td>Standard Class</td>\n",
       "      <td>SO-20335</td>\n",
       "      <td>Sean O'Donnell</td>\n",
       "      <td>Consumer</td>\n",
       "      <td>United States</td>\n",
       "      <td>Fort Lauderdale</td>\n",
       "      <td>Florida</td>\n",
       "      <td>33311</td>\n",
       "      <td>South</td>\n",
       "      <td>OFF-ST-10000760</td>\n",
       "      <td>Office Supplies</td>\n",
       "      <td>Storage</td>\n",
       "      <td>Eldon Fold 'N Roll Cart System</td>\n",
       "      <td>22.3680</td>\n",
       "    </tr>\n",
       "  </tbody>\n",
       "</table>\n",
       "</div>"
      ],
      "text/plain": [
       "         Order ID  Order Date   Ship Date       Ship Mode Customer ID  \\\n",
       "0  CA-2017-152156  08/11/2017  11/11/2017    Second Class    CG-12520   \n",
       "1  CA-2017-152156  08/11/2017  11/11/2017    Second Class    CG-12520   \n",
       "2  CA-2017-138688  12/06/2017  16/06/2017    Second Class    DV-13045   \n",
       "3  US-2016-108966  11/10/2016  18/10/2016  Standard Class    SO-20335   \n",
       "4  US-2016-108966  11/10/2016  18/10/2016  Standard Class    SO-20335   \n",
       "\n",
       "     Customer Name    Segment        Country             City       State  \\\n",
       "0      Claire Gute   Consumer  United States        Henderson    Kentucky   \n",
       "1      Claire Gute   Consumer  United States        Henderson    Kentucky   \n",
       "2  Darrin Van Huff  Corporate  United States      Los Angeles  California   \n",
       "3   Sean O'Donnell   Consumer  United States  Fort Lauderdale     Florida   \n",
       "4   Sean O'Donnell   Consumer  United States  Fort Lauderdale     Florida   \n",
       "\n",
       "   Postal Code Region       Product ID         Category Sub-Category  \\\n",
       "0        42420  South  FUR-BO-10001798        Furniture    Bookcases   \n",
       "1        42420  South  FUR-CH-10000454        Furniture       Chairs   \n",
       "2        90036   West  OFF-LA-10000240  Office Supplies       Labels   \n",
       "3        33311  South  FUR-TA-10000577        Furniture       Tables   \n",
       "4        33311  South  OFF-ST-10000760  Office Supplies      Storage   \n",
       "\n",
       "                                        Product Name     Sales  \n",
       "0                  Bush Somerset Collection Bookcase  261.9600  \n",
       "1  Hon Deluxe Fabric Upholstered Stacking Chairs,...  731.9400  \n",
       "2  Self-Adhesive Address Labels for Typewriters b...   14.6200  \n",
       "3      Bretford CR4500 Series Slim Rectangular Table  957.5775  \n",
       "4                     Eldon Fold 'N Roll Cart System   22.3680  "
      ]
     },
     "execution_count": 30,
     "metadata": {},
     "output_type": "execute_result"
    }
   ],
   "source": [
    "# Is there repeated customers??\n",
    "df.head()\n"
   ]
  },
  {
   "cell_type": "code",
   "execution_count": 31,
   "metadata": {
    "execution": {
     "iopub.execute_input": "2023-10-05T04:57:17.776718Z",
     "iopub.status.busy": "2023-10-05T04:57:17.776162Z",
     "iopub.status.idle": "2023-10-05T04:57:18.116501Z",
     "shell.execute_reply": "2023-10-05T04:57:18.115778Z",
     "shell.execute_reply.started": "2023-10-05T04:57:17.776668Z"
    }
   },
   "outputs": [
    {
     "data": {
      "text/plain": [
       "<Axes: xlabel='Customer ID,Customer Name'>"
      ]
     },
     "execution_count": 31,
     "metadata": {},
     "output_type": "execute_result"
    },
    {
     "data": {
      "image/png": "[encoded data removed]",
      "text/plain": [
       "<Figure size 640x480 with 1 Axes>"
      ]
     },
     "metadata": {},
     "output_type": "display_data"
    }
   ],
   "source": [
    "df[['Customer ID','Customer Name']].value_counts().head(15).plot(kind='bar')"
   ]
  },
  {
   "cell_type": "code",
   "execution_count": 32,
   "metadata": {
    "execution": {
     "iopub.execute_input": "2023-10-05T04:59:03.439074Z",
     "iopub.status.busy": "2023-10-05T04:59:03.438667Z",
     "iopub.status.idle": "2023-10-05T04:59:03.443440Z",
     "shell.execute_reply": "2023-10-05T04:59:03.442735Z",
     "shell.execute_reply.started": "2023-10-05T04:59:03.439046Z"
    }
   },
   "outputs": [],
   "source": [
    "# Yes! there are repeating customers"
   ]
  },
  {
   "cell_type": "code",
   "execution_count": 33,
   "metadata": {
    "execution": {
     "iopub.execute_input": "2023-10-05T05:01:32.262689Z",
     "iopub.status.busy": "2023-10-05T05:01:32.262300Z",
     "iopub.status.idle": "2023-10-05T05:01:32.278438Z",
     "shell.execute_reply": "2023-10-05T05:01:32.277602Z",
     "shell.execute_reply.started": "2023-10-05T05:01:32.262660Z"
    }
   },
   "outputs": [
    {
     "data": {
      "text/html": [
       "<div>\n",
       "<style scoped>\n",
       "    .dataframe tbody tr th:only-of-type {\n",
       "        vertical-align: middle;\n",
       "    }\n",
       "\n",
       "    .dataframe tbody tr th {\n",
       "        vertical-align: top;\n",
       "    }\n",
       "\n",
       "    .dataframe thead th {\n",
       "        text-align: right;\n",
       "    }\n",
       "</style>\n",
       "<table border=\"1\" class=\"dataframe\">\n",
       "  <thead>\n",
       "    <tr style=\"text-align: right;\">\n",
       "      <th></th>\n",
       "      <th>Customer Name</th>\n",
       "      <th>Sales</th>\n",
       "    </tr>\n",
       "  </thead>\n",
       "  <tbody>\n",
       "    <tr>\n",
       "      <th>686</th>\n",
       "      <td>Sean Miller</td>\n",
       "      <td>25043.050</td>\n",
       "    </tr>\n",
       "    <tr>\n",
       "      <th>730</th>\n",
       "      <td>Tamara Chand</td>\n",
       "      <td>19052.218</td>\n",
       "    </tr>\n",
       "    <tr>\n",
       "      <th>622</th>\n",
       "      <td>Raymond Buch</td>\n",
       "      <td>15117.339</td>\n",
       "    </tr>\n",
       "    <tr>\n",
       "      <th>757</th>\n",
       "      <td>Tom Ashbrook</td>\n",
       "      <td>14595.620</td>\n",
       "    </tr>\n",
       "    <tr>\n",
       "      <th>6</th>\n",
       "      <td>Adrian Barton</td>\n",
       "      <td>14473.571</td>\n",
       "    </tr>\n",
       "    <tr>\n",
       "      <th>441</th>\n",
       "      <td>Ken Lonsdale</td>\n",
       "      <td>14175.229</td>\n",
       "    </tr>\n",
       "    <tr>\n",
       "      <th>671</th>\n",
       "      <td>Sanjit Chand</td>\n",
       "      <td>14142.334</td>\n",
       "    </tr>\n",
       "    <tr>\n",
       "      <th>334</th>\n",
       "      <td>Hunter Lopez</td>\n",
       "      <td>12873.298</td>\n",
       "    </tr>\n",
       "    <tr>\n",
       "      <th>672</th>\n",
       "      <td>Sanjit Engle</td>\n",
       "      <td>12209.438</td>\n",
       "    </tr>\n",
       "    <tr>\n",
       "      <th>156</th>\n",
       "      <td>Christopher Conant</td>\n",
       "      <td>12129.072</td>\n",
       "    </tr>\n",
       "  </tbody>\n",
       "</table>\n",
       "</div>"
      ],
      "text/plain": [
       "          Customer Name      Sales\n",
       "686         Sean Miller  25043.050\n",
       "730        Tamara Chand  19052.218\n",
       "622        Raymond Buch  15117.339\n",
       "757        Tom Ashbrook  14595.620\n",
       "6         Adrian Barton  14473.571\n",
       "441        Ken Lonsdale  14175.229\n",
       "671        Sanjit Chand  14142.334\n",
       "334        Hunter Lopez  12873.298\n",
       "672        Sanjit Engle  12209.438\n",
       "156  Christopher Conant  12129.072"
      ]
     },
     "execution_count": 33,
     "metadata": {},
     "output_type": "execute_result"
    }
   ],
   "source": [
    "# Ranking of customers with highest sales\n",
    "df.groupby(['Customer Name'],as_index=False)['Sales'].sum().sort_values(by='Sales',ascending=False).head(10)"
   ]
  },
  {
   "cell_type": "code",
   "execution_count": 34,
   "metadata": {
    "execution": {
     "iopub.execute_input": "2023-10-05T05:03:44.003236Z",
     "iopub.status.busy": "2023-10-05T05:03:44.002843Z",
     "iopub.status.idle": "2023-10-05T05:03:44.009554Z",
     "shell.execute_reply": "2023-10-05T05:03:44.008031Z",
     "shell.execute_reply.started": "2023-10-05T05:03:44.003208Z"
    }
   },
   "outputs": [],
   "source": [
    "# This are the top 10 customers who have done more sales"
   ]
  },
  {
   "cell_type": "code",
   "execution_count": 37,
   "metadata": {
    "execution": {
     "iopub.execute_input": "2023-10-05T05:08:11.428160Z",
     "iopub.status.busy": "2023-10-05T05:08:11.427068Z",
     "iopub.status.idle": "2023-10-05T05:08:11.446153Z",
     "shell.execute_reply": "2023-10-05T05:08:11.445005Z",
     "shell.execute_reply.started": "2023-10-05T05:08:11.428118Z"
    }
   },
   "outputs": [
    {
     "data": {
      "text/html": [
       "<div>\n",
       "<style scoped>\n",
       "    .dataframe tbody tr th:only-of-type {\n",
       "        vertical-align: middle;\n",
       "    }\n",
       "\n",
       "    .dataframe tbody tr th {\n",
       "        vertical-align: top;\n",
       "    }\n",
       "\n",
       "    .dataframe thead th {\n",
       "        text-align: right;\n",
       "    }\n",
       "</style>\n",
       "<table border=\"1\" class=\"dataframe\">\n",
       "  <thead>\n",
       "    <tr style=\"text-align: right;\">\n",
       "      <th></th>\n",
       "      <th>City</th>\n",
       "      <th>Postal Code</th>\n",
       "      <th>Sales</th>\n",
       "    </tr>\n",
       "  </thead>\n",
       "  <tbody>\n",
       "    <tr>\n",
       "      <th>394</th>\n",
       "      <td>New York City</td>\n",
       "      <td>10024</td>\n",
       "      <td>78534.044</td>\n",
       "    </tr>\n",
       "    <tr>\n",
       "      <th>395</th>\n",
       "      <td>New York City</td>\n",
       "      <td>10035</td>\n",
       "      <td>75151.829</td>\n",
       "    </tr>\n",
       "    <tr>\n",
       "      <th>392</th>\n",
       "      <td>New York City</td>\n",
       "      <td>10009</td>\n",
       "      <td>53225.076</td>\n",
       "    </tr>\n",
       "    <tr>\n",
       "      <th>525</th>\n",
       "      <td>San Francisco</td>\n",
       "      <td>94122</td>\n",
       "      <td>49114.375</td>\n",
       "    </tr>\n",
       "    <tr>\n",
       "      <th>393</th>\n",
       "      <td>New York City</td>\n",
       "      <td>10011</td>\n",
       "      <td>45551.598</td>\n",
       "    </tr>\n",
       "    <tr>\n",
       "      <th>540</th>\n",
       "      <td>Seattle</td>\n",
       "      <td>98105</td>\n",
       "      <td>41838.008</td>\n",
       "    </tr>\n",
       "    <tr>\n",
       "      <th>541</th>\n",
       "      <td>Seattle</td>\n",
       "      <td>98115</td>\n",
       "      <td>41160.908</td>\n",
       "    </tr>\n",
       "    <tr>\n",
       "      <th>446</th>\n",
       "      <td>Philadelphia</td>\n",
       "      <td>19134</td>\n",
       "      <td>39390.293</td>\n",
       "    </tr>\n",
       "    <tr>\n",
       "      <th>260</th>\n",
       "      <td>Jacksonville</td>\n",
       "      <td>32216</td>\n",
       "      <td>39133.328</td>\n",
       "    </tr>\n",
       "    <tr>\n",
       "      <th>323</th>\n",
       "      <td>Los Angeles</td>\n",
       "      <td>90049</td>\n",
       "      <td>37889.924</td>\n",
       "    </tr>\n",
       "  </tbody>\n",
       "</table>\n",
       "</div>"
      ],
      "text/plain": [
       "              City  Postal Code      Sales\n",
       "394  New York City        10024  78534.044\n",
       "395  New York City        10035  75151.829\n",
       "392  New York City        10009  53225.076\n",
       "525  San Francisco        94122  49114.375\n",
       "393  New York City        10011  45551.598\n",
       "540        Seattle        98105  41838.008\n",
       "541        Seattle        98115  41160.908\n",
       "446   Philadelphia        19134  39390.293\n",
       "260   Jacksonville        32216  39133.328\n",
       "323    Los Angeles        90049  37889.924"
      ]
     },
     "execution_count": 37,
     "metadata": {},
     "output_type": "execute_result"
    }
   ],
   "source": [
    "df.groupby(['City','Postal Code'],as_index=False)['Sales'].sum().sort_values(by=\"Sales\",ascending=False).head(10)"
   ]
  },
  {
   "cell_type": "code",
   "execution_count": 38,
   "metadata": {
    "execution": {
     "iopub.execute_input": "2023-10-05T05:16:22.995626Z",
     "iopub.status.busy": "2023-10-05T05:16:22.994574Z",
     "iopub.status.idle": "2023-10-05T05:16:23.822136Z",
     "shell.execute_reply": "2023-10-05T05:16:23.821074Z",
     "shell.execute_reply.started": "2023-10-05T05:16:22.995577Z"
    }
   },
   "outputs": [
    {
     "data": {
      "text/plain": [
       "<Axes: xlabel='City', ylabel='Sales'>"
      ]
     },
     "execution_count": 38,
     "metadata": {},
     "output_type": "execute_result"
    },
    {
     "data": {
      "image/png": "[encoded data removed]",
      "text/plain": [
       "<Figure size 1500x1000 with 1 Axes>"
      ]
     },
     "metadata": {},
     "output_type": "display_data"
    }
   ],
   "source": [
    "city_postal=df.groupby(['City','Postal Code'],as_index=False)['Sales'].sum().sort_values(by=\"Sales\",ascending=False).head(10)\n",
    "plt.figure(figsize=(15,10))\n",
    "sns.barplot(x='City',y='Sales',hue='Postal Code',data=city_postal)"
   ]
  },
  {
   "cell_type": "code",
   "execution_count": 39,
   "metadata": {
    "execution": {
     "iopub.execute_input": "2023-10-05T06:02:37.344312Z",
     "iopub.status.busy": "2023-10-05T06:02:37.343364Z",
     "iopub.status.idle": "2023-10-05T06:02:37.357205Z",
     "shell.execute_reply": "2023-10-05T06:02:37.355735Z",
     "shell.execute_reply.started": "2023-10-05T06:02:37.344281Z"
    }
   },
   "outputs": [
    {
     "data": {
      "text/html": [
       "<div>\n",
       "<style scoped>\n",
       "    .dataframe tbody tr th:only-of-type {\n",
       "        vertical-align: middle;\n",
       "    }\n",
       "\n",
       "    .dataframe tbody tr th {\n",
       "        vertical-align: top;\n",
       "    }\n",
       "\n",
       "    .dataframe thead th {\n",
       "        text-align: right;\n",
       "    }\n",
       "</style>\n",
       "<table border=\"1\" class=\"dataframe\">\n",
       "  <thead>\n",
       "    <tr style=\"text-align: right;\">\n",
       "      <th></th>\n",
       "      <th>State</th>\n",
       "      <th>Customer Name</th>\n",
       "    </tr>\n",
       "  </thead>\n",
       "  <tbody>\n",
       "    <tr>\n",
       "      <th>3</th>\n",
       "      <td>California</td>\n",
       "      <td>1946</td>\n",
       "    </tr>\n",
       "    <tr>\n",
       "      <th>30</th>\n",
       "      <td>New York</td>\n",
       "      <td>1097</td>\n",
       "    </tr>\n",
       "    <tr>\n",
       "      <th>41</th>\n",
       "      <td>Texas</td>\n",
       "      <td>973</td>\n",
       "    </tr>\n",
       "    <tr>\n",
       "      <th>36</th>\n",
       "      <td>Pennsylvania</td>\n",
       "      <td>582</td>\n",
       "    </tr>\n",
       "    <tr>\n",
       "      <th>44</th>\n",
       "      <td>Washington</td>\n",
       "      <td>504</td>\n",
       "    </tr>\n",
       "    <tr>\n",
       "      <th>11</th>\n",
       "      <td>Illinois</td>\n",
       "      <td>483</td>\n",
       "    </tr>\n",
       "    <tr>\n",
       "      <th>33</th>\n",
       "      <td>Ohio</td>\n",
       "      <td>454</td>\n",
       "    </tr>\n",
       "    <tr>\n",
       "      <th>8</th>\n",
       "      <td>Florida</td>\n",
       "      <td>373</td>\n",
       "    </tr>\n",
       "    <tr>\n",
       "      <th>20</th>\n",
       "      <td>Michigan</td>\n",
       "      <td>253</td>\n",
       "    </tr>\n",
       "    <tr>\n",
       "      <th>31</th>\n",
       "      <td>North Carolina</td>\n",
       "      <td>247</td>\n",
       "    </tr>\n",
       "  </tbody>\n",
       "</table>\n",
       "</div>"
      ],
      "text/plain": [
       "             State  Customer Name\n",
       "3       California           1946\n",
       "30        New York           1097\n",
       "41           Texas            973\n",
       "36    Pennsylvania            582\n",
       "44      Washington            504\n",
       "11        Illinois            483\n",
       "33            Ohio            454\n",
       "8          Florida            373\n",
       "20        Michigan            253\n",
       "31  North Carolina            247"
      ]
     },
     "execution_count": 39,
     "metadata": {},
     "output_type": "execute_result"
    }
   ],
   "source": [
    "# State wise custmors\n",
    "cutomer_state=df.groupby(['State'],as_index=False)['Customer Name'].count().sort_values(by='Customer Name',ascending=False).head(10)\n",
    "cutomer_state"
   ]
  },
  {
   "cell_type": "code",
   "execution_count": 40,
   "metadata": {
    "execution": {
     "iopub.execute_input": "2023-10-05T06:03:58.224274Z",
     "iopub.status.busy": "2023-10-05T06:03:58.223906Z",
     "iopub.status.idle": "2023-10-05T06:03:58.230098Z",
     "shell.execute_reply": "2023-10-05T06:03:58.228549Z",
     "shell.execute_reply.started": "2023-10-05T06:03:58.224246Z"
    }
   },
   "outputs": [],
   "source": [
    "# most of the customers are from the above mention  state"
   ]
  },
  {
   "cell_type": "code",
   "execution_count": 41,
   "metadata": {
    "execution": {
     "iopub.execute_input": "2023-10-05T06:04:57.964007Z",
     "iopub.status.busy": "2023-10-05T06:04:57.963211Z",
     "iopub.status.idle": "2023-10-05T06:04:57.977132Z",
     "shell.execute_reply": "2023-10-05T06:04:57.976163Z",
     "shell.execute_reply.started": "2023-10-05T06:04:57.963975Z"
    }
   },
   "outputs": [
    {
     "data": {
      "text/html": [
       "<div>\n",
       "<style scoped>\n",
       "    .dataframe tbody tr th:only-of-type {\n",
       "        vertical-align: middle;\n",
       "    }\n",
       "\n",
       "    .dataframe tbody tr th {\n",
       "        vertical-align: top;\n",
       "    }\n",
       "\n",
       "    .dataframe thead th {\n",
       "        text-align: right;\n",
       "    }\n",
       "</style>\n",
       "<table border=\"1\" class=\"dataframe\">\n",
       "  <thead>\n",
       "    <tr style=\"text-align: right;\">\n",
       "      <th></th>\n",
       "      <th>State</th>\n",
       "      <th>Sales</th>\n",
       "    </tr>\n",
       "  </thead>\n",
       "  <tbody>\n",
       "    <tr>\n",
       "      <th>3</th>\n",
       "      <td>California</td>\n",
       "      <td>446306.4635</td>\n",
       "    </tr>\n",
       "    <tr>\n",
       "      <th>30</th>\n",
       "      <td>New York</td>\n",
       "      <td>306361.1470</td>\n",
       "    </tr>\n",
       "    <tr>\n",
       "      <th>41</th>\n",
       "      <td>Texas</td>\n",
       "      <td>168572.5322</td>\n",
       "    </tr>\n",
       "    <tr>\n",
       "      <th>44</th>\n",
       "      <td>Washington</td>\n",
       "      <td>135206.8500</td>\n",
       "    </tr>\n",
       "    <tr>\n",
       "      <th>36</th>\n",
       "      <td>Pennsylvania</td>\n",
       "      <td>116276.6500</td>\n",
       "    </tr>\n",
       "    <tr>\n",
       "      <th>8</th>\n",
       "      <td>Florida</td>\n",
       "      <td>88436.5320</td>\n",
       "    </tr>\n",
       "    <tr>\n",
       "      <th>11</th>\n",
       "      <td>Illinois</td>\n",
       "      <td>79236.5170</td>\n",
       "    </tr>\n",
       "    <tr>\n",
       "      <th>20</th>\n",
       "      <td>Michigan</td>\n",
       "      <td>76136.0740</td>\n",
       "    </tr>\n",
       "    <tr>\n",
       "      <th>33</th>\n",
       "      <td>Ohio</td>\n",
       "      <td>75130.3500</td>\n",
       "    </tr>\n",
       "    <tr>\n",
       "      <th>43</th>\n",
       "      <td>Virginia</td>\n",
       "      <td>70636.7200</td>\n",
       "    </tr>\n",
       "  </tbody>\n",
       "</table>\n",
       "</div>"
      ],
      "text/plain": [
       "           State        Sales\n",
       "3     California  446306.4635\n",
       "30      New York  306361.1470\n",
       "41         Texas  168572.5322\n",
       "44    Washington  135206.8500\n",
       "36  Pennsylvania  116276.6500\n",
       "8        Florida   88436.5320\n",
       "11      Illinois   79236.5170\n",
       "20      Michigan   76136.0740\n",
       "33          Ohio   75130.3500\n",
       "43      Virginia   70636.7200"
      ]
     },
     "execution_count": 41,
     "metadata": {},
     "output_type": "execute_result"
    }
   ],
   "source": [
    "df.groupby(['State'],as_index=False)['Sales'].sum().sort_values(by='Sales',ascending=False).head(10)"
   ]
  },
  {
   "cell_type": "code",
   "execution_count": 42,
   "metadata": {
    "execution": {
     "iopub.execute_input": "2023-10-05T06:07:54.408283Z",
     "iopub.status.busy": "2023-10-05T06:07:54.407941Z",
     "iopub.status.idle": "2023-10-05T06:07:54.414091Z",
     "shell.execute_reply": "2023-10-05T06:07:54.412737Z",
     "shell.execute_reply.started": "2023-10-05T06:07:54.408257Z"
    }
   },
   "outputs": [],
   "source": [
    "# Most of the sales are done from above mention states"
   ]
  },
  {
   "cell_type": "code",
   "execution_count": 43,
   "metadata": {
    "execution": {
     "iopub.execute_input": "2023-10-05T06:16:09.757896Z",
     "iopub.status.busy": "2023-10-05T06:16:09.757517Z",
     "iopub.status.idle": "2023-10-05T06:16:09.773519Z",
     "shell.execute_reply": "2023-10-05T06:16:09.772084Z",
     "shell.execute_reply.started": "2023-10-05T06:16:09.757866Z"
    }
   },
   "outputs": [
    {
     "data": {
      "text/html": [
       "<div>\n",
       "<style scoped>\n",
       "    .dataframe tbody tr th:only-of-type {\n",
       "        vertical-align: middle;\n",
       "    }\n",
       "\n",
       "    .dataframe tbody tr th {\n",
       "        vertical-align: top;\n",
       "    }\n",
       "\n",
       "    .dataframe thead th {\n",
       "        text-align: right;\n",
       "    }\n",
       "</style>\n",
       "<table border=\"1\" class=\"dataframe\">\n",
       "  <thead>\n",
       "    <tr style=\"text-align: right;\">\n",
       "      <th></th>\n",
       "      <th>Region</th>\n",
       "      <th>Sales</th>\n",
       "    </tr>\n",
       "  </thead>\n",
       "  <tbody>\n",
       "    <tr>\n",
       "      <th>3</th>\n",
       "      <td>West</td>\n",
       "      <td>710219.6845</td>\n",
       "    </tr>\n",
       "    <tr>\n",
       "      <th>1</th>\n",
       "      <td>East</td>\n",
       "      <td>660589.3560</td>\n",
       "    </tr>\n",
       "    <tr>\n",
       "      <th>0</th>\n",
       "      <td>Central</td>\n",
       "      <td>492646.9132</td>\n",
       "    </tr>\n",
       "    <tr>\n",
       "      <th>2</th>\n",
       "      <td>South</td>\n",
       "      <td>389151.4590</td>\n",
       "    </tr>\n",
       "  </tbody>\n",
       "</table>\n",
       "</div>"
      ],
      "text/plain": [
       "    Region        Sales\n",
       "3     West  710219.6845\n",
       "1     East  660589.3560\n",
       "0  Central  492646.9132\n",
       "2    South  389151.4590"
      ]
     },
     "execution_count": 43,
     "metadata": {},
     "output_type": "execute_result"
    }
   ],
   "source": [
    "region_sales=df.groupby(['Region'],as_index=False)['Sales'].sum().sort_values(by='Sales',ascending=False)\n",
    "region_sales"
   ]
  },
  {
   "cell_type": "code",
   "execution_count": 44,
   "metadata": {
    "execution": {
     "iopub.execute_input": "2023-10-05T06:17:57.354091Z",
     "iopub.status.busy": "2023-10-05T06:17:57.353642Z",
     "iopub.status.idle": "2023-10-05T06:17:57.363400Z",
     "shell.execute_reply": "2023-10-05T06:17:57.361983Z",
     "shell.execute_reply.started": "2023-10-05T06:17:57.354060Z"
    }
   },
   "outputs": [
    {
     "data": {
      "text/plain": [
       "3    710219.6845\n",
       "1    660589.3560\n",
       "0    492646.9132\n",
       "2    389151.4590\n",
       "Name: Sales, dtype: float64"
      ]
     },
     "execution_count": 44,
     "metadata": {},
     "output_type": "execute_result"
    }
   ],
   "source": [
    "region_sales['Sales']"
   ]
  },
  {
   "cell_type": "code",
   "execution_count": 45,
   "metadata": {
    "execution": {
     "iopub.execute_input": "2023-10-05T06:18:25.049874Z",
     "iopub.status.busy": "2023-10-05T06:18:25.049477Z",
     "iopub.status.idle": "2023-10-05T06:18:25.168214Z",
     "shell.execute_reply": "2023-10-05T06:18:25.166754Z",
     "shell.execute_reply.started": "2023-10-05T06:18:25.049843Z"
    }
   },
   "outputs": [
    {
     "data": {
      "image/png": "[encoded data removed]",
      "text/plain": [
       "<Figure size 640x480 with 1 Axes>"
      ]
     },
     "metadata": {},
     "output_type": "display_data"
    }
   ],
   "source": [
    "plt.pie(region_sales['Sales'],labels=region_sales['Region'],autopct='%1.2f%%')\n",
    "plt.show()"
   ]
  },
  {
   "cell_type": "code",
   "execution_count": 46,
   "metadata": {
    "execution": {
     "iopub.execute_input": "2023-10-05T06:20:33.941322Z",
     "iopub.status.busy": "2023-10-05T06:20:33.940885Z",
     "iopub.status.idle": "2023-10-05T06:20:33.948049Z",
     "shell.execute_reply": "2023-10-05T06:20:33.946772Z",
     "shell.execute_reply.started": "2023-10-05T06:20:33.941289Z"
    }
   },
   "outputs": [],
   "source": [
    "# Most of the sales are from the west and east region"
   ]
  },
  {
   "cell_type": "code",
   "execution_count": 47,
   "metadata": {
    "execution": {
     "iopub.execute_input": "2023-10-05T06:20:52.195785Z",
     "iopub.status.busy": "2023-10-05T06:20:52.195389Z",
     "iopub.status.idle": "2023-10-05T06:20:52.213039Z",
     "shell.execute_reply": "2023-10-05T06:20:52.211689Z",
     "shell.execute_reply.started": "2023-10-05T06:20:52.195756Z"
    }
   },
   "outputs": [
    {
     "data": {
      "text/html": [
       "<div>\n",
       "<style scoped>\n",
       "    .dataframe tbody tr th:only-of-type {\n",
       "        vertical-align: middle;\n",
       "    }\n",
       "\n",
       "    .dataframe tbody tr th {\n",
       "        vertical-align: top;\n",
       "    }\n",
       "\n",
       "    .dataframe thead th {\n",
       "        text-align: right;\n",
       "    }\n",
       "</style>\n",
       "<table border=\"1\" class=\"dataframe\">\n",
       "  <thead>\n",
       "    <tr style=\"text-align: right;\">\n",
       "      <th></th>\n",
       "      <th>Order ID</th>\n",
       "      <th>Order Date</th>\n",
       "      <th>Ship Date</th>\n",
       "      <th>Ship Mode</th>\n",
       "      <th>Customer ID</th>\n",
       "      <th>Customer Name</th>\n",
       "      <th>Segment</th>\n",
       "      <th>Country</th>\n",
       "      <th>City</th>\n",
       "      <th>State</th>\n",
       "      <th>Postal Code</th>\n",
       "      <th>Region</th>\n",
       "      <th>Product ID</th>\n",
       "      <th>Category</th>\n",
       "      <th>Sub-Category</th>\n",
       "      <th>Product Name</th>\n",
       "      <th>Sales</th>\n",
       "    </tr>\n",
       "  </thead>\n",
       "  <tbody>\n",
       "    <tr>\n",
       "      <th>0</th>\n",
       "      <td>CA-2017-152156</td>\n",
       "      <td>08/11/2017</td>\n",
       "      <td>11/11/2017</td>\n",
       "      <td>Second Class</td>\n",
       "      <td>CG-12520</td>\n",
       "      <td>Claire Gute</td>\n",
       "      <td>Consumer</td>\n",
       "      <td>United States</td>\n",
       "      <td>Henderson</td>\n",
       "      <td>Kentucky</td>\n",
       "      <td>42420</td>\n",
       "      <td>South</td>\n",
       "      <td>FUR-BO-10001798</td>\n",
       "      <td>Furniture</td>\n",
       "      <td>Bookcases</td>\n",
       "      <td>Bush Somerset Collection Bookcase</td>\n",
       "      <td>261.9600</td>\n",
       "    </tr>\n",
       "    <tr>\n",
       "      <th>1</th>\n",
       "      <td>CA-2017-152156</td>\n",
       "      <td>08/11/2017</td>\n",
       "      <td>11/11/2017</td>\n",
       "      <td>Second Class</td>\n",
       "      <td>CG-12520</td>\n",
       "      <td>Claire Gute</td>\n",
       "      <td>Consumer</td>\n",
       "      <td>United States</td>\n",
       "      <td>Henderson</td>\n",
       "      <td>Kentucky</td>\n",
       "      <td>42420</td>\n",
       "      <td>South</td>\n",
       "      <td>FUR-CH-10000454</td>\n",
       "      <td>Furniture</td>\n",
       "      <td>Chairs</td>\n",
       "      <td>Hon Deluxe Fabric Upholstered Stacking Chairs,...</td>\n",
       "      <td>731.9400</td>\n",
       "    </tr>\n",
       "    <tr>\n",
       "      <th>2</th>\n",
       "      <td>CA-2017-138688</td>\n",
       "      <td>12/06/2017</td>\n",
       "      <td>16/06/2017</td>\n",
       "      <td>Second Class</td>\n",
       "      <td>DV-13045</td>\n",
       "      <td>Darrin Van Huff</td>\n",
       "      <td>Corporate</td>\n",
       "      <td>United States</td>\n",
       "      <td>Los Angeles</td>\n",
       "      <td>California</td>\n",
       "      <td>90036</td>\n",
       "      <td>West</td>\n",
       "      <td>OFF-LA-10000240</td>\n",
       "      <td>Office Supplies</td>\n",
       "      <td>Labels</td>\n",
       "      <td>Self-Adhesive Address Labels for Typewriters b...</td>\n",
       "      <td>14.6200</td>\n",
       "    </tr>\n",
       "    <tr>\n",
       "      <th>3</th>\n",
       "      <td>US-2016-108966</td>\n",
       "      <td>11/10/2016</td>\n",
       "      <td>18/10/2016</td>\n",
       "      <td>Standard Class</td>\n",
       "      <td>SO-20335</td>\n",
       "      <td>Sean O'Donnell</td>\n",
       "      <td>Consumer</td>\n",
       "      <td>United States</td>\n",
       "      <td>Fort Lauderdale</td>\n",
       "      <td>Florida</td>\n",
       "      <td>33311</td>\n",
       "      <td>South</td>\n",
       "      <td>FUR-TA-10000577</td>\n",
       "      <td>Furniture</td>\n",
       "      <td>Tables</td>\n",
       "      <td>Bretford CR4500 Series Slim Rectangular Table</td>\n",
       "      <td>957.5775</td>\n",
       "    </tr>\n",
       "    <tr>\n",
       "      <th>4</th>\n",
       "      <td>US-2016-108966</td>\n",
       "      <td>11/10/2016</td>\n",
       "      <td>18/10/2016</td>\n",
       "      <td>Standard Class</td>\n",
       "      <td>SO-20335</td>\n",
       "      <td>Sean O'Donnell</td>\n",
       "      <td>Consumer</td>\n",
       "      <td>United States</td>\n",
       "      <td>Fort Lauderdale</td>\n",
       "      <td>Florida</td>\n",
       "      <td>33311</td>\n",
       "      <td>South</td>\n",
       "      <td>OFF-ST-10000760</td>\n",
       "      <td>Office Supplies</td>\n",
       "      <td>Storage</td>\n",
       "      <td>Eldon Fold 'N Roll Cart System</td>\n",
       "      <td>22.3680</td>\n",
       "    </tr>\n",
       "  </tbody>\n",
       "</table>\n",
       "</div>"
      ],
      "text/plain": [
       "         Order ID  Order Date   Ship Date       Ship Mode Customer ID  \\\n",
       "0  CA-2017-152156  08/11/2017  11/11/2017    Second Class    CG-12520   \n",
       "1  CA-2017-152156  08/11/2017  11/11/2017    Second Class    CG-12520   \n",
       "2  CA-2017-138688  12/06/2017  16/06/2017    Second Class    DV-13045   \n",
       "3  US-2016-108966  11/10/2016  18/10/2016  Standard Class    SO-20335   \n",
       "4  US-2016-108966  11/10/2016  18/10/2016  Standard Class    SO-20335   \n",
       "\n",
       "     Customer Name    Segment        Country             City       State  \\\n",
       "0      Claire Gute   Consumer  United States        Henderson    Kentucky   \n",
       "1      Claire Gute   Consumer  United States        Henderson    Kentucky   \n",
       "2  Darrin Van Huff  Corporate  United States      Los Angeles  California   \n",
       "3   Sean O'Donnell   Consumer  United States  Fort Lauderdale     Florida   \n",
       "4   Sean O'Donnell   Consumer  United States  Fort Lauderdale     Florida   \n",
       "\n",
       "   Postal Code Region       Product ID         Category Sub-Category  \\\n",
       "0        42420  South  FUR-BO-10001798        Furniture    Bookcases   \n",
       "1        42420  South  FUR-CH-10000454        Furniture       Chairs   \n",
       "2        90036   West  OFF-LA-10000240  Office Supplies       Labels   \n",
       "3        33311  South  FUR-TA-10000577        Furniture       Tables   \n",
       "4        33311  South  OFF-ST-10000760  Office Supplies      Storage   \n",
       "\n",
       "                                        Product Name     Sales  \n",
       "0                  Bush Somerset Collection Bookcase  261.9600  \n",
       "1  Hon Deluxe Fabric Upholstered Stacking Chairs,...  731.9400  \n",
       "2  Self-Adhesive Address Labels for Typewriters b...   14.6200  \n",
       "3      Bretford CR4500 Series Slim Rectangular Table  957.5775  \n",
       "4                     Eldon Fold 'N Roll Cart System   22.3680  "
      ]
     },
     "execution_count": 47,
     "metadata": {},
     "output_type": "execute_result"
    }
   ],
   "source": [
    "df.head()"
   ]
  },
  {
   "cell_type": "code",
   "execution_count": 48,
   "metadata": {
    "execution": {
     "iopub.execute_input": "2023-10-05T06:22:12.853167Z",
     "iopub.status.busy": "2023-10-05T06:22:12.852048Z",
     "iopub.status.idle": "2023-10-05T06:22:12.865599Z",
     "shell.execute_reply": "2023-10-05T06:22:12.864534Z",
     "shell.execute_reply.started": "2023-10-05T06:22:12.853128Z"
    }
   },
   "outputs": [
    {
     "data": {
      "text/html": [
       "<div>\n",
       "<style scoped>\n",
       "    .dataframe tbody tr th:only-of-type {\n",
       "        vertical-align: middle;\n",
       "    }\n",
       "\n",
       "    .dataframe tbody tr th {\n",
       "        vertical-align: top;\n",
       "    }\n",
       "\n",
       "    .dataframe thead th {\n",
       "        text-align: right;\n",
       "    }\n",
       "</style>\n",
       "<table border=\"1\" class=\"dataframe\">\n",
       "  <thead>\n",
       "    <tr style=\"text-align: right;\">\n",
       "      <th></th>\n",
       "      <th>Category</th>\n",
       "      <th>Sales</th>\n",
       "    </tr>\n",
       "  </thead>\n",
       "  <tbody>\n",
       "    <tr>\n",
       "      <th>2</th>\n",
       "      <td>Technology</td>\n",
       "      <td>825856.1130</td>\n",
       "    </tr>\n",
       "    <tr>\n",
       "      <th>0</th>\n",
       "      <td>Furniture</td>\n",
       "      <td>723538.4757</td>\n",
       "    </tr>\n",
       "    <tr>\n",
       "      <th>1</th>\n",
       "      <td>Office Supplies</td>\n",
       "      <td>703212.8240</td>\n",
       "    </tr>\n",
       "  </tbody>\n",
       "</table>\n",
       "</div>"
      ],
      "text/plain": [
       "          Category        Sales\n",
       "2       Technology  825856.1130\n",
       "0        Furniture  723538.4757\n",
       "1  Office Supplies  703212.8240"
      ]
     },
     "execution_count": 48,
     "metadata": {},
     "output_type": "execute_result"
    }
   ],
   "source": [
    "category_sales=df.groupby(['Category'],as_index=False)['Sales'].sum().sort_values(by='Sales',ascending=False)\n",
    "category_sales"
   ]
  },
  {
   "cell_type": "code",
   "execution_count": 49,
   "metadata": {
    "execution": {
     "iopub.execute_input": "2023-10-05T06:23:20.719804Z",
     "iopub.status.busy": "2023-10-05T06:23:20.719375Z",
     "iopub.status.idle": "2023-10-05T06:23:20.843889Z",
     "shell.execute_reply": "2023-10-05T06:23:20.842442Z",
     "shell.execute_reply.started": "2023-10-05T06:23:20.719771Z"
    }
   },
   "outputs": [
    {
     "data": {
      "image/png": "[encoded data removed]",
      "text/plain": [
       "<Figure size 640x480 with 1 Axes>"
      ]
     },
     "metadata": {},
     "output_type": "display_data"
    }
   ],
   "source": [
    "plt.pie(category_sales['Sales'],labels=category_sales['Category'],autopct='%1.2f%%')\n",
    "plt.show()"
   ]
  },
  {
   "cell_type": "code",
   "execution_count": 50,
   "metadata": {
    "execution": {
     "iopub.execute_input": "2023-10-05T06:25:37.008014Z",
     "iopub.status.busy": "2023-10-05T06:25:37.007642Z",
     "iopub.status.idle": "2023-10-05T06:25:37.020977Z",
     "shell.execute_reply": "2023-10-05T06:25:37.019730Z",
     "shell.execute_reply.started": "2023-10-05T06:25:37.007987Z"
    }
   },
   "outputs": [
    {
     "data": {
      "text/html": [
       "<div>\n",
       "<style scoped>\n",
       "    .dataframe tbody tr th:only-of-type {\n",
       "        vertical-align: middle;\n",
       "    }\n",
       "\n",
       "    .dataframe tbody tr th {\n",
       "        vertical-align: top;\n",
       "    }\n",
       "\n",
       "    .dataframe thead th {\n",
       "        text-align: right;\n",
       "    }\n",
       "</style>\n",
       "<table border=\"1\" class=\"dataframe\">\n",
       "  <thead>\n",
       "    <tr style=\"text-align: right;\">\n",
       "      <th></th>\n",
       "      <th>Sub-Category</th>\n",
       "      <th>Sales</th>\n",
       "    </tr>\n",
       "  </thead>\n",
       "  <tbody>\n",
       "    <tr>\n",
       "      <th>13</th>\n",
       "      <td>Phones</td>\n",
       "      <td>326487.6980</td>\n",
       "    </tr>\n",
       "    <tr>\n",
       "      <th>5</th>\n",
       "      <td>Chairs</td>\n",
       "      <td>322107.5310</td>\n",
       "    </tr>\n",
       "    <tr>\n",
       "      <th>14</th>\n",
       "      <td>Storage</td>\n",
       "      <td>217779.1020</td>\n",
       "    </tr>\n",
       "    <tr>\n",
       "      <th>16</th>\n",
       "      <td>Tables</td>\n",
       "      <td>202810.6280</td>\n",
       "    </tr>\n",
       "    <tr>\n",
       "      <th>3</th>\n",
       "      <td>Binders</td>\n",
       "      <td>200028.7850</td>\n",
       "    </tr>\n",
       "    <tr>\n",
       "      <th>11</th>\n",
       "      <td>Machines</td>\n",
       "      <td>189238.6310</td>\n",
       "    </tr>\n",
       "    <tr>\n",
       "      <th>0</th>\n",
       "      <td>Accessories</td>\n",
       "      <td>163881.6900</td>\n",
       "    </tr>\n",
       "    <tr>\n",
       "      <th>6</th>\n",
       "      <td>Copiers</td>\n",
       "      <td>146248.0940</td>\n",
       "    </tr>\n",
       "    <tr>\n",
       "      <th>4</th>\n",
       "      <td>Bookcases</td>\n",
       "      <td>109408.2987</td>\n",
       "    </tr>\n",
       "    <tr>\n",
       "      <th>1</th>\n",
       "      <td>Appliances</td>\n",
       "      <td>104075.4630</td>\n",
       "    </tr>\n",
       "  </tbody>\n",
       "</table>\n",
       "</div>"
      ],
      "text/plain": [
       "   Sub-Category        Sales\n",
       "13       Phones  326487.6980\n",
       "5        Chairs  322107.5310\n",
       "14      Storage  217779.1020\n",
       "16       Tables  202810.6280\n",
       "3       Binders  200028.7850\n",
       "11     Machines  189238.6310\n",
       "0   Accessories  163881.6900\n",
       "6       Copiers  146248.0940\n",
       "4     Bookcases  109408.2987\n",
       "1    Appliances  104075.4630"
      ]
     },
     "execution_count": 50,
     "metadata": {},
     "output_type": "execute_result"
    }
   ],
   "source": [
    "subcategory_sales=df.groupby(['Sub-Category'],as_index=False)['Sales'].sum().sort_values(by='Sales',ascending=False).head(10)\n",
    "subcategory_sales"
   ]
  },
  {
   "cell_type": "code",
   "execution_count": 51,
   "metadata": {
    "execution": {
     "iopub.execute_input": "2023-10-05T06:26:40.212051Z",
     "iopub.status.busy": "2023-10-05T06:26:40.210846Z",
     "iopub.status.idle": "2023-10-05T06:26:40.551395Z",
     "shell.execute_reply": "2023-10-05T06:26:40.550037Z",
     "shell.execute_reply.started": "2023-10-05T06:26:40.211988Z"
    }
   },
   "outputs": [
    {
     "data": {
      "text/plain": [
       "<Axes: xlabel='Sub-Category', ylabel='Sales'>"
      ]
     },
     "execution_count": 51,
     "metadata": {},
     "output_type": "execute_result"
    },
    {
     "data": {
      "image/png": "[encoded data removed]",
      "text/plain": [
       "<Figure size 1500x1000 with 1 Axes>"
      ]
     },
     "metadata": {},
     "output_type": "display_data"
    }
   ],
   "source": [
    "plt.figure(figsize=(15,10))\n",
    "sns.barplot(x='Sub-Category',y='Sales',data=subcategory_sales)"
   ]
  },
  {
   "cell_type": "code",
   "execution_count": 52,
   "metadata": {},
   "outputs": [],
   "source": [
    "# The sales of phones,chairs storage and tables are more "
   ]
  },
  {
   "cell_type": "code",
   "execution_count": 53,
   "metadata": {
    "execution": {
     "iopub.execute_input": "2023-10-05T06:33:33.654322Z",
     "iopub.status.busy": "2023-10-05T06:33:33.653895Z",
     "iopub.status.idle": "2023-10-05T06:33:33.663537Z",
     "shell.execute_reply": "2023-10-05T06:33:33.661841Z",
     "shell.execute_reply.started": "2023-10-05T06:33:33.654290Z"
    }
   },
   "outputs": [
    {
     "data": {
      "text/plain": [
       "array(['Bush Somerset Collection Bookcase',\n",
       "       'Hon Deluxe Fabric Upholstered Stacking Chairs, Rounded Back',\n",
       "       'Self-Adhesive Address Labels for Typewriters by Universal', ...,\n",
       "       'Cisco 8961 IP Phone Charcoal', 'Eureka Hand Vacuum, Bagless',\n",
       "       'LG G2'], dtype=object)"
      ]
     },
     "execution_count": 53,
     "metadata": {},
     "output_type": "execute_result"
    }
   ],
   "source": [
    "df['Product Name'].unique()"
   ]
  },
  {
   "cell_type": "code",
   "execution_count": 54,
   "metadata": {
    "execution": {
     "iopub.execute_input": "2023-10-05T06:35:05.237127Z",
     "iopub.status.busy": "2023-10-05T06:35:05.236735Z",
     "iopub.status.idle": "2023-10-05T06:35:05.256286Z",
     "shell.execute_reply": "2023-10-05T06:35:05.255455Z",
     "shell.execute_reply.started": "2023-10-05T06:35:05.237099Z"
    }
   },
   "outputs": [
    {
     "data": {
      "text/html": [
       "<div>\n",
       "<style scoped>\n",
       "    .dataframe tbody tr th:only-of-type {\n",
       "        vertical-align: middle;\n",
       "    }\n",
       "\n",
       "    .dataframe tbody tr th {\n",
       "        vertical-align: top;\n",
       "    }\n",
       "\n",
       "    .dataframe thead th {\n",
       "        text-align: right;\n",
       "    }\n",
       "</style>\n",
       "<table border=\"1\" class=\"dataframe\">\n",
       "  <thead>\n",
       "    <tr style=\"text-align: right;\">\n",
       "      <th></th>\n",
       "      <th>Product Name</th>\n",
       "      <th>Customer Name</th>\n",
       "    </tr>\n",
       "  </thead>\n",
       "  <tbody>\n",
       "    <tr>\n",
       "      <th>1491</th>\n",
       "      <td>Staple envelope</td>\n",
       "      <td>47</td>\n",
       "    </tr>\n",
       "    <tr>\n",
       "      <th>1497</th>\n",
       "      <td>Staples</td>\n",
       "      <td>46</td>\n",
       "    </tr>\n",
       "    <tr>\n",
       "      <th>536</th>\n",
       "      <td>Easy-staple paper</td>\n",
       "      <td>44</td>\n",
       "    </tr>\n",
       "    <tr>\n",
       "      <th>258</th>\n",
       "      <td>Avery Non-Stick Binders</td>\n",
       "      <td>20</td>\n",
       "    </tr>\n",
       "    <tr>\n",
       "      <th>1494</th>\n",
       "      <td>Staple remover</td>\n",
       "      <td>18</td>\n",
       "    </tr>\n",
       "    <tr>\n",
       "      <th>1498</th>\n",
       "      <td>Staples in misc. colors</td>\n",
       "      <td>18</td>\n",
       "    </tr>\n",
       "    <tr>\n",
       "      <th>1509</th>\n",
       "      <td>Storex Dura Pro Binders</td>\n",
       "      <td>17</td>\n",
       "    </tr>\n",
       "    <tr>\n",
       "      <th>940</th>\n",
       "      <td>KI Adjustable-Height Table</td>\n",
       "      <td>17</td>\n",
       "    </tr>\n",
       "    <tr>\n",
       "      <th>1495</th>\n",
       "      <td>Staple-based wall hangings</td>\n",
       "      <td>16</td>\n",
       "    </tr>\n",
       "    <tr>\n",
       "      <th>991</th>\n",
       "      <td>Logitech 910-002974 M325 Wireless Mouse for We...</td>\n",
       "      <td>15</td>\n",
       "    </tr>\n",
       "  </tbody>\n",
       "</table>\n",
       "</div>"
      ],
      "text/plain": [
       "                                           Product Name  Customer Name\n",
       "1491                                    Staple envelope             47\n",
       "1497                                            Staples             46\n",
       "536                                   Easy-staple paper             44\n",
       "258                             Avery Non-Stick Binders             20\n",
       "1494                                     Staple remover             18\n",
       "1498                            Staples in misc. colors             18\n",
       "1509                            Storex Dura Pro Binders             17\n",
       "940                          KI Adjustable-Height Table             17\n",
       "1495                         Staple-based wall hangings             16\n",
       "991   Logitech 910-002974 M325 Wireless Mouse for We...             15"
      ]
     },
     "execution_count": 54,
     "metadata": {},
     "output_type": "execute_result"
    }
   ],
   "source": [
    "df.groupby(['Product Name'],as_index=False)['Customer Name'].count().sort_values(by='Customer Name',ascending=False).head(10)"
   ]
  },
  {
   "cell_type": "code",
   "execution_count": 55,
   "metadata": {
    "execution": {
     "iopub.execute_input": "2023-10-05T06:36:31.807779Z",
     "iopub.status.busy": "2023-10-05T06:36:31.807343Z",
     "iopub.status.idle": "2023-10-05T06:36:31.812932Z",
     "shell.execute_reply": "2023-10-05T06:36:31.811497Z",
     "shell.execute_reply.started": "2023-10-05T06:36:31.807739Z"
    }
   },
   "outputs": [],
   "source": [
    "# Staple envelope,Staples and Easy-staple paper this products having more number of customers\n"
   ]
  },
  {
   "cell_type": "code",
   "execution_count": 56,
   "metadata": {
    "execution": {
     "iopub.execute_input": "2023-10-05T06:39:40.866183Z",
     "iopub.status.busy": "2023-10-05T06:39:40.865769Z",
     "iopub.status.idle": "2023-10-05T06:39:40.883873Z",
     "shell.execute_reply": "2023-10-05T06:39:40.882315Z",
     "shell.execute_reply.started": "2023-10-05T06:39:40.866155Z"
    }
   },
   "outputs": [
    {
     "data": {
      "text/html": [
       "<div>\n",
       "<style scoped>\n",
       "    .dataframe tbody tr th:only-of-type {\n",
       "        vertical-align: middle;\n",
       "    }\n",
       "\n",
       "    .dataframe tbody tr th {\n",
       "        vertical-align: top;\n",
       "    }\n",
       "\n",
       "    .dataframe thead th {\n",
       "        text-align: right;\n",
       "    }\n",
       "</style>\n",
       "<table border=\"1\" class=\"dataframe\">\n",
       "  <thead>\n",
       "    <tr style=\"text-align: right;\">\n",
       "      <th></th>\n",
       "      <th>Product Name</th>\n",
       "      <th>Sales</th>\n",
       "    </tr>\n",
       "  </thead>\n",
       "  <tbody>\n",
       "    <tr>\n",
       "      <th>403</th>\n",
       "      <td>Canon imageCLASS 2200 Advanced Copier</td>\n",
       "      <td>61599.824</td>\n",
       "    </tr>\n",
       "    <tr>\n",
       "      <th>648</th>\n",
       "      <td>Fellowes PB500 Electric Punch Plastic Comb Bin...</td>\n",
       "      <td>27453.384</td>\n",
       "    </tr>\n",
       "    <tr>\n",
       "      <th>443</th>\n",
       "      <td>Cisco TelePresence System EX90 Videoconferenci...</td>\n",
       "      <td>22638.480</td>\n",
       "    </tr>\n",
       "    <tr>\n",
       "      <th>784</th>\n",
       "      <td>HON 5400 Series Task Chairs for Big and Tall</td>\n",
       "      <td>21870.576</td>\n",
       "    </tr>\n",
       "    <tr>\n",
       "      <th>684</th>\n",
       "      <td>GBC DocuBind TL300 Electric Binding System</td>\n",
       "      <td>19823.479</td>\n",
       "    </tr>\n",
       "    <tr>\n",
       "      <th>686</th>\n",
       "      <td>GBC Ibimaster 500 Manual ProClick Binding System</td>\n",
       "      <td>19024.500</td>\n",
       "    </tr>\n",
       "    <tr>\n",
       "      <th>803</th>\n",
       "      <td>Hewlett Packard LaserJet 3310 Copier</td>\n",
       "      <td>18839.686</td>\n",
       "    </tr>\n",
       "    <tr>\n",
       "      <th>785</th>\n",
       "      <td>HP Designjet T520 Inkjet Large Format Printer ...</td>\n",
       "      <td>18374.895</td>\n",
       "    </tr>\n",
       "    <tr>\n",
       "      <th>681</th>\n",
       "      <td>GBC DocuBind P400 Electric Binding System</td>\n",
       "      <td>17965.068</td>\n",
       "    </tr>\n",
       "    <tr>\n",
       "      <th>811</th>\n",
       "      <td>High Speed Automatic Electric Letter Opener</td>\n",
       "      <td>17030.312</td>\n",
       "    </tr>\n",
       "  </tbody>\n",
       "</table>\n",
       "</div>"
      ],
      "text/plain": [
       "                                          Product Name      Sales\n",
       "403              Canon imageCLASS 2200 Advanced Copier  61599.824\n",
       "648  Fellowes PB500 Electric Punch Plastic Comb Bin...  27453.384\n",
       "443  Cisco TelePresence System EX90 Videoconferenci...  22638.480\n",
       "784       HON 5400 Series Task Chairs for Big and Tall  21870.576\n",
       "684         GBC DocuBind TL300 Electric Binding System  19823.479\n",
       "686   GBC Ibimaster 500 Manual ProClick Binding System  19024.500\n",
       "803               Hewlett Packard LaserJet 3310 Copier  18839.686\n",
       "785  HP Designjet T520 Inkjet Large Format Printer ...  18374.895\n",
       "681          GBC DocuBind P400 Electric Binding System  17965.068\n",
       "811        High Speed Automatic Electric Letter Opener  17030.312"
      ]
     },
     "execution_count": 56,
     "metadata": {},
     "output_type": "execute_result"
    }
   ],
   "source": [
    "df.groupby(['Product Name'],as_index=False)['Sales'].sum().sort_values(by='Sales',ascending=False).head(10)"
   ]
  },
  {
   "cell_type": "code",
   "execution_count": null,
   "metadata": {},
   "outputs": [],
   "source": []
  },
  {
   "cell_type": "code",
   "execution_count": null,
   "metadata": {},
   "outputs": [],
   "source": []
  }
 ],
 "metadata": {
  "kernelspec": {
   "display_name": "Python 3 (ipykernel)",
   "language": "python",
   "name": "python3"
  },
  "language_info": {
   "codemirror_mode": {
    "name": "ipython",
    "version": 3
   },
   "file_extension": ".py",
   "mimetype": "text/x-python",
   "name": "python",
   "nbconvert_exporter": "python",
   "pygments_lexer": "ipython3",
   "version": "3.10.9"
  }
 },
 "nbformat": 4,
 "nbformat_minor": 4
}
